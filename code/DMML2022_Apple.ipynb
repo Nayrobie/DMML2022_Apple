{
  "cells": [
    {
      "cell_type": "markdown",
      "metadata": {
        "id": "U2xsafSKX7Tx"
      },
      "source": [
        "### Kaggle Competition Guidelines"
      ]
    },
    {
      "cell_type": "markdown",
      "metadata": {
        "id": "1hCtpTo4X-RD"
      },
      "source": [
        "The following are a set of step by step guidelines to help you get started with your project for the Data Mining and Machine Learning class. \n",
        "To test what you learned in the class, we will hold a competition. You will create a classifier that predicts how the level of some text in French (A1,..., C2). The team with the highest rank will get some goodies in the last class (some souvenirs from tech companies: Amazon, LinkedIn, etc).\n",
        "\n",
        "**2 people per team**\n",
        "\n",
        "Choose a team here:\n",
        "https://moodle.unil.ch/mod/choicegroup/view.php?id=1305831\n",
        "\n",
        "\n",
        "#### 1. 📂 Create a public GitHub repository for your team using this naming convention `DMML2022_[your_team_name]` with the following structure:\n",
        "- data (folder) \n",
        "- code (folder) \n",
        "- documentation (folder)\n",
        "- a readme file (.md): *mention team name, participants, brief description of the project, approach, summary of results table and link to the explainatory video (see below).*\n",
        "\n",
        "All team members should contribute to the GitHub repository.\n",
        "\n",
        "#### 2. 🇰 Join the competititon on Kaggle using the invitation link we sent on Slack.\n",
        "\n",
        "Under the Team tab, save your team name (`UNIL_your_team_name`) and make sure your team members join in as well. You can merge your user account with your teammates in order to create a team.\n",
        "\n",
        "#### 3. 📓 Read the data into your colab notebook. There should be one code notebook per team, but all team members can participate and contribute code. \n",
        "\n",
        "You can use either direct the Kaggle API and your Kaggle credentials (as explained below and **entirely optional**), or dowload the data form Kaggle and upload it onto your team's GitHub repository under the data subfolder.\n",
        "\n",
        "#### 4. 💎 Train your models and upload the code under your team's GitHub repo. Set the `random_state=0`.\n",
        "- baseline\n",
        "- logistic regression with TFidf vectoriser (simple, no data cleaning)\n",
        "- KNN & hyperparameter optimisation (simple, no data cleaning)\n",
        "- Decision Tree classifier & hyperparameter optimisation (simple, no data cleaning)\n",
        "- Random Forests classifier (simple, no data cleaning)\n",
        "- another technique or combination of techniques of your choice\n",
        "\n",
        "BE CREATIVE! You can use whatever method you want, in order to climb the leaderboard. The only rule is that it must be your own work. Given that, you can use all the online resources you want. \n",
        "\n",
        "#### 5. 🎥 Create a YouTube video (10-15 minutes) of your solution and embed it in your notebook. Explain the algorithms used and the evaluation of your solutions. *Select* projects will also be presented live by the group during the last class.\n",
        "\n",
        "\n",
        "### Submission details (one per team)\n",
        "\n",
        "1. Download a ZIPped file of your team's repository and submit it in Moodle here. IMPORTANT: in the comment of the submission, insert a link to the repository on Github.\n",
        "https://moodle.unil.ch/mod/assign/view.php?id=1305833\n",
        "\n",
        "\n",
        "\n",
        "### Grading (one per team)\n",
        "- 20% Kaggle Rank\n",
        "- 50% code quality (using classes, splitting into proper files, documentation, etc)\n",
        "- 15% github quality (include link to video, table with progress over time, organization of code, images, etc)\n",
        "- 15% video quality (good sound, good slides, interesting presentation)."
      ]
    },
    {
      "cell_type": "markdown",
      "metadata": {
        "id": "tsxQRU1tVFE8"
      },
      "source": [
        "### Importing Main Libraries"
      ]
    },
    {
      "cell_type": "code",
      "execution_count": null,
      "metadata": {
        "id": "PoaBzkwzFWO-",
        "colab": {
          "base_uri": "https://localhost:8080/"
        },
        "outputId": "22b13c01-335e-497c-f7f5-211b1affe702"
      },
      "outputs": [
        {
          "output_type": "stream",
          "name": "stderr",
          "text": [
            "/usr/local/lib/python3.8/dist-packages/torch/cuda/__init__.py:497: UserWarning: Can't initialize NVML\n",
            "  warnings.warn(\"Can't initialize NVML\")\n"
          ]
        }
      ],
      "source": [
        "# Import required packages\n",
        "import spacy\n",
        "from spacy import displacy\n",
        "from sklearn.feature_extraction.text import CountVectorizer, TfidfVectorizer\n",
        "import pandas as pd\n",
        "import numpy as np \n",
        "from sklearn.linear_model import LogisticRegression, LogisticRegressionCV\n",
        "from sklearn.metrics import confusion_matrix, accuracy_score, precision_score, recall_score, f1_score\n",
        "from sklearn. preprocessing import StandardScaler"
      ]
    },
    {
      "cell_type": "code",
      "execution_count": null,
      "metadata": {
        "colab": {
          "base_uri": "https://localhost:8080/"
        },
        "id": "0RnGJ_ZGC5U4",
        "outputId": "e6eff5aa-5356-48a5-d26f-400734ce1913"
      },
      "outputs": [
        {
          "output_type": "stream",
          "name": "stdout",
          "text": [
            "Looking in indexes: https://pypi.org/simple, https://us-python.pkg.dev/colab-wheels/public/simple/\n",
            "Requirement already satisfied: spacy in /usr/local/lib/python3.8/dist-packages (3.4.4)\n",
            "Requirement already satisfied: numpy>=1.15.0 in /usr/local/lib/python3.8/dist-packages (from spacy) (1.21.6)\n",
            "Requirement already satisfied: packaging>=20.0 in /usr/local/lib/python3.8/dist-packages (from spacy) (21.3)\n",
            "Requirement already satisfied: murmurhash<1.1.0,>=0.28.0 in /usr/local/lib/python3.8/dist-packages (from spacy) (1.0.9)\n",
            "Requirement already satisfied: thinc<8.2.0,>=8.1.0 in /usr/local/lib/python3.8/dist-packages (from spacy) (8.1.5)\n",
            "Requirement already satisfied: langcodes<4.0.0,>=3.2.0 in /usr/local/lib/python3.8/dist-packages (from spacy) (3.3.0)\n",
            "Requirement already satisfied: pydantic!=1.8,!=1.8.1,<1.11.0,>=1.7.4 in /usr/local/lib/python3.8/dist-packages (from spacy) (1.10.2)\n",
            "Requirement already satisfied: spacy-legacy<3.1.0,>=3.0.10 in /usr/local/lib/python3.8/dist-packages (from spacy) (3.0.10)\n",
            "Requirement already satisfied: preshed<3.1.0,>=3.0.2 in /usr/local/lib/python3.8/dist-packages (from spacy) (3.0.8)\n",
            "Requirement already satisfied: smart-open<7.0.0,>=5.2.1 in /usr/local/lib/python3.8/dist-packages (from spacy) (6.3.0)\n",
            "Requirement already satisfied: setuptools in /usr/local/lib/python3.8/dist-packages (from spacy) (57.4.0)\n",
            "Requirement already satisfied: jinja2 in /usr/local/lib/python3.8/dist-packages (from spacy) (2.11.3)\n",
            "Requirement already satisfied: typer<0.8.0,>=0.3.0 in /usr/local/lib/python3.8/dist-packages (from spacy) (0.7.0)\n",
            "Requirement already satisfied: wasabi<1.1.0,>=0.9.1 in /usr/local/lib/python3.8/dist-packages (from spacy) (0.10.1)\n",
            "Requirement already satisfied: pathy>=0.3.5 in /usr/local/lib/python3.8/dist-packages (from spacy) (0.10.1)\n",
            "Requirement already satisfied: catalogue<2.1.0,>=2.0.6 in /usr/local/lib/python3.8/dist-packages (from spacy) (2.0.8)\n",
            "Requirement already satisfied: srsly<3.0.0,>=2.4.3 in /usr/local/lib/python3.8/dist-packages (from spacy) (2.4.5)\n",
            "Requirement already satisfied: tqdm<5.0.0,>=4.38.0 in /usr/local/lib/python3.8/dist-packages (from spacy) (4.64.1)\n",
            "Requirement already satisfied: spacy-loggers<2.0.0,>=1.0.0 in /usr/local/lib/python3.8/dist-packages (from spacy) (1.0.4)\n",
            "Requirement already satisfied: requests<3.0.0,>=2.13.0 in /usr/local/lib/python3.8/dist-packages (from spacy) (2.23.0)\n",
            "Requirement already satisfied: cymem<2.1.0,>=2.0.2 in /usr/local/lib/python3.8/dist-packages (from spacy) (2.0.7)\n",
            "Requirement already satisfied: pyparsing!=3.0.5,>=2.0.2 in /usr/local/lib/python3.8/dist-packages (from packaging>=20.0->spacy) (3.0.9)\n",
            "Requirement already satisfied: typing-extensions>=4.1.0 in /usr/local/lib/python3.8/dist-packages (from pydantic!=1.8,!=1.8.1,<1.11.0,>=1.7.4->spacy) (4.4.0)\n",
            "Requirement already satisfied: idna<3,>=2.5 in /usr/local/lib/python3.8/dist-packages (from requests<3.0.0,>=2.13.0->spacy) (2.10)\n",
            "Requirement already satisfied: chardet<4,>=3.0.2 in /usr/local/lib/python3.8/dist-packages (from requests<3.0.0,>=2.13.0->spacy) (3.0.4)\n",
            "Requirement already satisfied: urllib3!=1.25.0,!=1.25.1,<1.26,>=1.21.1 in /usr/local/lib/python3.8/dist-packages (from requests<3.0.0,>=2.13.0->spacy) (1.24.3)\n",
            "Requirement already satisfied: certifi>=2017.4.17 in /usr/local/lib/python3.8/dist-packages (from requests<3.0.0,>=2.13.0->spacy) (2022.12.7)\n",
            "Requirement already satisfied: confection<1.0.0,>=0.0.1 in /usr/local/lib/python3.8/dist-packages (from thinc<8.2.0,>=8.1.0->spacy) (0.0.3)\n",
            "Requirement already satisfied: blis<0.8.0,>=0.7.8 in /usr/local/lib/python3.8/dist-packages (from thinc<8.2.0,>=8.1.0->spacy) (0.7.9)\n",
            "Requirement already satisfied: click<9.0.0,>=7.1.1 in /usr/local/lib/python3.8/dist-packages (from typer<0.8.0,>=0.3.0->spacy) (7.1.2)\n",
            "Requirement already satisfied: MarkupSafe>=0.23 in /usr/local/lib/python3.8/dist-packages (from jinja2->spacy) (2.0.1)\n",
            "/usr/local/lib/python3.8/dist-packages/torch/cuda/__init__.py:497: UserWarning: Can't initialize NVML\n",
            "  warnings.warn(\"Can't initialize NVML\")\n",
            "2022-12-21 13:19:48.510759: E tensorflow/stream_executor/cuda/cuda_driver.cc:271] failed call to cuInit: CUDA_ERROR_NO_DEVICE: no CUDA-capable device is detected\n",
            "Looking in indexes: https://pypi.org/simple, https://us-python.pkg.dev/colab-wheels/public/simple/\n",
            "Collecting fr-core-news-sm==3.4.0\n",
            "  Downloading https://github.com/explosion/spacy-models/releases/download/fr_core_news_sm-3.4.0/fr_core_news_sm-3.4.0-py3-none-any.whl (16.3 MB)\n",
            "\u001b[K     |████████████████████████████████| 16.3 MB 5.1 MB/s \n",
            "\u001b[?25hRequirement already satisfied: spacy<3.5.0,>=3.4.0 in /usr/local/lib/python3.8/dist-packages (from fr-core-news-sm==3.4.0) (3.4.4)\n",
            "Requirement already satisfied: preshed<3.1.0,>=3.0.2 in /usr/local/lib/python3.8/dist-packages (from spacy<3.5.0,>=3.4.0->fr-core-news-sm==3.4.0) (3.0.8)\n",
            "Requirement already satisfied: smart-open<7.0.0,>=5.2.1 in /usr/local/lib/python3.8/dist-packages (from spacy<3.5.0,>=3.4.0->fr-core-news-sm==3.4.0) (6.3.0)\n",
            "Requirement already satisfied: cymem<2.1.0,>=2.0.2 in /usr/local/lib/python3.8/dist-packages (from spacy<3.5.0,>=3.4.0->fr-core-news-sm==3.4.0) (2.0.7)\n",
            "Requirement already satisfied: pathy>=0.3.5 in /usr/local/lib/python3.8/dist-packages (from spacy<3.5.0,>=3.4.0->fr-core-news-sm==3.4.0) (0.10.1)\n",
            "Requirement already satisfied: spacy-legacy<3.1.0,>=3.0.10 in /usr/local/lib/python3.8/dist-packages (from spacy<3.5.0,>=3.4.0->fr-core-news-sm==3.4.0) (3.0.10)\n",
            "Requirement already satisfied: wasabi<1.1.0,>=0.9.1 in /usr/local/lib/python3.8/dist-packages (from spacy<3.5.0,>=3.4.0->fr-core-news-sm==3.4.0) (0.10.1)\n",
            "Requirement already satisfied: srsly<3.0.0,>=2.4.3 in /usr/local/lib/python3.8/dist-packages (from spacy<3.5.0,>=3.4.0->fr-core-news-sm==3.4.0) (2.4.5)\n",
            "Requirement already satisfied: requests<3.0.0,>=2.13.0 in /usr/local/lib/python3.8/dist-packages (from spacy<3.5.0,>=3.4.0->fr-core-news-sm==3.4.0) (2.23.0)\n",
            "Requirement already satisfied: murmurhash<1.1.0,>=0.28.0 in /usr/local/lib/python3.8/dist-packages (from spacy<3.5.0,>=3.4.0->fr-core-news-sm==3.4.0) (1.0.9)\n",
            "Requirement already satisfied: langcodes<4.0.0,>=3.2.0 in /usr/local/lib/python3.8/dist-packages (from spacy<3.5.0,>=3.4.0->fr-core-news-sm==3.4.0) (3.3.0)\n",
            "Requirement already satisfied: tqdm<5.0.0,>=4.38.0 in /usr/local/lib/python3.8/dist-packages (from spacy<3.5.0,>=3.4.0->fr-core-news-sm==3.4.0) (4.64.1)\n",
            "Requirement already satisfied: pydantic!=1.8,!=1.8.1,<1.11.0,>=1.7.4 in /usr/local/lib/python3.8/dist-packages (from spacy<3.5.0,>=3.4.0->fr-core-news-sm==3.4.0) (1.10.2)\n",
            "Requirement already satisfied: spacy-loggers<2.0.0,>=1.0.0 in /usr/local/lib/python3.8/dist-packages (from spacy<3.5.0,>=3.4.0->fr-core-news-sm==3.4.0) (1.0.4)\n",
            "Requirement already satisfied: jinja2 in /usr/local/lib/python3.8/dist-packages (from spacy<3.5.0,>=3.4.0->fr-core-news-sm==3.4.0) (2.11.3)\n",
            "Requirement already satisfied: setuptools in /usr/local/lib/python3.8/dist-packages (from spacy<3.5.0,>=3.4.0->fr-core-news-sm==3.4.0) (57.4.0)\n",
            "Requirement already satisfied: packaging>=20.0 in /usr/local/lib/python3.8/dist-packages (from spacy<3.5.0,>=3.4.0->fr-core-news-sm==3.4.0) (21.3)\n",
            "Requirement already satisfied: numpy>=1.15.0 in /usr/local/lib/python3.8/dist-packages (from spacy<3.5.0,>=3.4.0->fr-core-news-sm==3.4.0) (1.21.6)\n",
            "Requirement already satisfied: thinc<8.2.0,>=8.1.0 in /usr/local/lib/python3.8/dist-packages (from spacy<3.5.0,>=3.4.0->fr-core-news-sm==3.4.0) (8.1.5)\n",
            "Requirement already satisfied: typer<0.8.0,>=0.3.0 in /usr/local/lib/python3.8/dist-packages (from spacy<3.5.0,>=3.4.0->fr-core-news-sm==3.4.0) (0.7.0)\n",
            "Requirement already satisfied: catalogue<2.1.0,>=2.0.6 in /usr/local/lib/python3.8/dist-packages (from spacy<3.5.0,>=3.4.0->fr-core-news-sm==3.4.0) (2.0.8)\n",
            "Requirement already satisfied: pyparsing!=3.0.5,>=2.0.2 in /usr/local/lib/python3.8/dist-packages (from packaging>=20.0->spacy<3.5.0,>=3.4.0->fr-core-news-sm==3.4.0) (3.0.9)\n",
            "Requirement already satisfied: typing-extensions>=4.1.0 in /usr/local/lib/python3.8/dist-packages (from pydantic!=1.8,!=1.8.1,<1.11.0,>=1.7.4->spacy<3.5.0,>=3.4.0->fr-core-news-sm==3.4.0) (4.4.0)\n",
            "Requirement already satisfied: urllib3!=1.25.0,!=1.25.1,<1.26,>=1.21.1 in /usr/local/lib/python3.8/dist-packages (from requests<3.0.0,>=2.13.0->spacy<3.5.0,>=3.4.0->fr-core-news-sm==3.4.0) (1.24.3)\n",
            "Requirement already satisfied: idna<3,>=2.5 in /usr/local/lib/python3.8/dist-packages (from requests<3.0.0,>=2.13.0->spacy<3.5.0,>=3.4.0->fr-core-news-sm==3.4.0) (2.10)\n",
            "Requirement already satisfied: chardet<4,>=3.0.2 in /usr/local/lib/python3.8/dist-packages (from requests<3.0.0,>=2.13.0->spacy<3.5.0,>=3.4.0->fr-core-news-sm==3.4.0) (3.0.4)\n",
            "Requirement already satisfied: certifi>=2017.4.17 in /usr/local/lib/python3.8/dist-packages (from requests<3.0.0,>=2.13.0->spacy<3.5.0,>=3.4.0->fr-core-news-sm==3.4.0) (2022.12.7)\n",
            "Requirement already satisfied: blis<0.8.0,>=0.7.8 in /usr/local/lib/python3.8/dist-packages (from thinc<8.2.0,>=8.1.0->spacy<3.5.0,>=3.4.0->fr-core-news-sm==3.4.0) (0.7.9)\n",
            "Requirement already satisfied: confection<1.0.0,>=0.0.1 in /usr/local/lib/python3.8/dist-packages (from thinc<8.2.0,>=8.1.0->spacy<3.5.0,>=3.4.0->fr-core-news-sm==3.4.0) (0.0.3)\n",
            "Requirement already satisfied: click<9.0.0,>=7.1.1 in /usr/local/lib/python3.8/dist-packages (from typer<0.8.0,>=0.3.0->spacy<3.5.0,>=3.4.0->fr-core-news-sm==3.4.0) (7.1.2)\n",
            "Requirement already satisfied: MarkupSafe>=0.23 in /usr/local/lib/python3.8/dist-packages (from jinja2->spacy<3.5.0,>=3.4.0->fr-core-news-sm==3.4.0) (2.0.1)\n",
            "Installing collected packages: fr-core-news-sm\n",
            "Successfully installed fr-core-news-sm-3.4.0\n",
            "\u001b[38;5;2m✔ Download and installation successful\u001b[0m\n",
            "You can now load the package via spacy.load('fr_core_news_sm')\n"
          ]
        }
      ],
      "source": [
        "#import spaCy with french model\n",
        "!pip install -U spacy\n",
        "!python -m spacy download fr_core_news_sm"
      ]
    },
    {
      "cell_type": "markdown",
      "metadata": {
        "id": "FfTgL1erjqQ6"
      },
      "source": [
        "### 1. Train the model & compute the baseline\n",
        "\n",
        "To begin with, we set our X and y variables and\n",
        "split the data into a train and test set."
      ]
    },
    {
      "cell_type": "code",
      "execution_count": null,
      "metadata": {
        "id": "WDdFr4xsk5Qf"
      },
      "outputs": [],
      "source": [
        "# Import the csv datasets\n",
        "df_train, df_pred =  pd.read_csv('training_data.csv'),pd.read_csv('unlabelled_test_data.csv')\n",
        "\n",
        "# Set the regression variables\n",
        "y = df_train['difficulty'] # dependent var\n",
        "X = df_train['sentence'] # independent var\n",
        "\n",
        "# Split train test\n",
        "from sklearn.model_selection import train_test_split\n",
        "\n",
        "X_train, X_test, y_train, y_test = train_test_split(X, \n",
        "                                                    y, \n",
        "                                                    test_size=0.2, \n",
        "                                                    random_state=0)"
      ]
    },
    {
      "cell_type": "markdown",
      "source": [
        "Then we computed what is the baseline percentage for this classification problem."
      ],
      "metadata": {
        "id": "ugL55QimctME"
      }
    },
    {
      "cell_type": "code",
      "execution_count": null,
      "metadata": {
        "id": "ZNNuHiKoNQSF",
        "colab": {
          "base_uri": "https://localhost:8080/",
          "height": 81
        },
        "outputId": "1fe6aad2-b79a-4ff9-e860-40309ed602c8"
      },
      "outputs": [
        {
          "output_type": "execute_result",
          "data": {
            "text/plain": [
              "   baseline_%\n",
              "0       16.77"
            ],
            "text/html": [
              "\n",
              "  <div id=\"df-085c5b5e-5bd8-4bee-b55f-72f0516802b9\">\n",
              "    <div class=\"colab-df-container\">\n",
              "      <div>\n",
              "<style scoped>\n",
              "    .dataframe tbody tr th:only-of-type {\n",
              "        vertical-align: middle;\n",
              "    }\n",
              "\n",
              "    .dataframe tbody tr th {\n",
              "        vertical-align: top;\n",
              "    }\n",
              "\n",
              "    .dataframe thead th {\n",
              "        text-align: right;\n",
              "    }\n",
              "</style>\n",
              "<table border=\"1\" class=\"dataframe\">\n",
              "  <thead>\n",
              "    <tr style=\"text-align: right;\">\n",
              "      <th></th>\n",
              "      <th>baseline_%</th>\n",
              "    </tr>\n",
              "  </thead>\n",
              "  <tbody>\n",
              "    <tr>\n",
              "      <th>0</th>\n",
              "      <td>16.77</td>\n",
              "    </tr>\n",
              "  </tbody>\n",
              "</table>\n",
              "</div>\n",
              "      <button class=\"colab-df-convert\" onclick=\"convertToInteractive('df-085c5b5e-5bd8-4bee-b55f-72f0516802b9')\"\n",
              "              title=\"Convert this dataframe to an interactive table.\"\n",
              "              style=\"display:none;\">\n",
              "        \n",
              "  <svg xmlns=\"http://www.w3.org/2000/svg\" height=\"24px\"viewBox=\"0 0 24 24\"\n",
              "       width=\"24px\">\n",
              "    <path d=\"M0 0h24v24H0V0z\" fill=\"none\"/>\n",
              "    <path d=\"M18.56 5.44l.94 2.06.94-2.06 2.06-.94-2.06-.94-.94-2.06-.94 2.06-2.06.94zm-11 1L8.5 8.5l.94-2.06 2.06-.94-2.06-.94L8.5 2.5l-.94 2.06-2.06.94zm10 10l.94 2.06.94-2.06 2.06-.94-2.06-.94-.94-2.06-.94 2.06-2.06.94z\"/><path d=\"M17.41 7.96l-1.37-1.37c-.4-.4-.92-.59-1.43-.59-.52 0-1.04.2-1.43.59L10.3 9.45l-7.72 7.72c-.78.78-.78 2.05 0 2.83L4 21.41c.39.39.9.59 1.41.59.51 0 1.02-.2 1.41-.59l7.78-7.78 2.81-2.81c.8-.78.8-2.07 0-2.86zM5.41 20L4 18.59l7.72-7.72 1.47 1.35L5.41 20z\"/>\n",
              "  </svg>\n",
              "      </button>\n",
              "      \n",
              "  <style>\n",
              "    .colab-df-container {\n",
              "      display:flex;\n",
              "      flex-wrap:wrap;\n",
              "      gap: 12px;\n",
              "    }\n",
              "\n",
              "    .colab-df-convert {\n",
              "      background-color: #E8F0FE;\n",
              "      border: none;\n",
              "      border-radius: 50%;\n",
              "      cursor: pointer;\n",
              "      display: none;\n",
              "      fill: #1967D2;\n",
              "      height: 32px;\n",
              "      padding: 0 0 0 0;\n",
              "      width: 32px;\n",
              "    }\n",
              "\n",
              "    .colab-df-convert:hover {\n",
              "      background-color: #E2EBFA;\n",
              "      box-shadow: 0px 1px 2px rgba(60, 64, 67, 0.3), 0px 1px 3px 1px rgba(60, 64, 67, 0.15);\n",
              "      fill: #174EA6;\n",
              "    }\n",
              "\n",
              "    [theme=dark] .colab-df-convert {\n",
              "      background-color: #3B4455;\n",
              "      fill: #D2E3FC;\n",
              "    }\n",
              "\n",
              "    [theme=dark] .colab-df-convert:hover {\n",
              "      background-color: #434B5C;\n",
              "      box-shadow: 0px 1px 3px 1px rgba(0, 0, 0, 0.15);\n",
              "      filter: drop-shadow(0px 1px 2px rgba(0, 0, 0, 0.3));\n",
              "      fill: #FFFFFF;\n",
              "    }\n",
              "  </style>\n",
              "\n",
              "      <script>\n",
              "        const buttonEl =\n",
              "          document.querySelector('#df-085c5b5e-5bd8-4bee-b55f-72f0516802b9 button.colab-df-convert');\n",
              "        buttonEl.style.display =\n",
              "          google.colab.kernel.accessAllowed ? 'block' : 'none';\n",
              "\n",
              "        async function convertToInteractive(key) {\n",
              "          const element = document.querySelector('#df-085c5b5e-5bd8-4bee-b55f-72f0516802b9');\n",
              "          const dataTable =\n",
              "            await google.colab.kernel.invokeFunction('convertToInteractive',\n",
              "                                                     [key], {});\n",
              "          if (!dataTable) return;\n",
              "\n",
              "          const docLinkHtml = 'Like what you see? Visit the ' +\n",
              "            '<a target=\"_blank\" href=https://colab.research.google.com/notebooks/data_table.ipynb>data table notebook</a>'\n",
              "            + ' to learn more about interactive tables.';\n",
              "          element.innerHTML = '';\n",
              "          dataTable['output_type'] = 'display_data';\n",
              "          await google.colab.output.renderOutput(dataTable, element);\n",
              "          const docLink = document.createElement('div');\n",
              "          docLink.innerHTML = docLinkHtml;\n",
              "          element.appendChild(docLink);\n",
              "        }\n",
              "      </script>\n",
              "    </div>\n",
              "  </div>\n",
              "  "
            ]
          },
          "metadata": {},
          "execution_count": 4
        }
      ],
      "source": [
        "# Base Rate = (most frequent class) / (total observations)\n",
        "from sklearn.dummy import DummyClassifier\n",
        "\n",
        "# Find most frequent class\n",
        "dummy = DummyClassifier(strategy='most_frequent')\n",
        "\n",
        "# Fit it as if we had no X features to train it on\n",
        "dummy.fit(None, y_train)\n",
        "\n",
        "# Compute test baseline\n",
        "baseline = dummy.score(None, y_test)\n",
        "\n",
        "# Show the result in a DataFrame\n",
        "baseline_df = pd.DataFrame({'baseline_%': baseline}, index=[0])*100\n",
        "baseline_df.round(decimals=2)"
      ]
    },
    {
      "cell_type": "markdown",
      "metadata": {
        "id": "SlvbPYa0k78l"
      },
      "source": [
        "### 2.1 Logistic Regression\n",
        "\n",
        "In section 2, we want to try different regression models on our dataset without data cleaning. We will then proceed to compare how well the different models performed and which one gave us the best accuracy result without data cleaning. To compare the models, we chose to use the most relevent metrics: accuracy, precision, recall and F1 score.\n",
        "\n",
        "The first model we tried is a Logistic Regression using a Tfidf vectoriser."
      ]
    },
    {
      "cell_type": "code",
      "execution_count": null,
      "metadata": {
        "id": "bnI07OhYk1RH"
      },
      "outputs": [],
      "source": [
        "def convert_difficulty(df, reverse=False):\n",
        "  \"\"\" \n",
        "  The function converts the difficulty column of the dataset from the language level (A1 to C2) to a scale from 0 to 5, or vice versa.\n",
        "  To use it, enter a Pandas DataFrame (df) and say if you want to convert the difficulty column to a scale of 0 to 5 (reverse=False) or reconvert it back to language level (reverse=True).\n",
        "  \"\"\"\n",
        "  if not reverse:\n",
        "    df.loc[df['difficulty']=='A1','difficulty']=0\n",
        "    df.loc[df['difficulty']=='A2','difficulty']=1\n",
        "    df.loc[df['difficulty']=='B1','difficulty']=2\n",
        "    df.loc[df['difficulty']=='B2','difficulty']=3\n",
        "    df.loc[df['difficulty']=='C1','difficulty']=4\n",
        "    df.loc[df['difficulty']=='C2','difficulty']=5\n",
        "  else:\n",
        "    df.loc[df['difficulty']==0,'difficulty']='A1'\n",
        "    df.loc[df['difficulty']==1,'difficulty']='A2'\n",
        "    df.loc[df['difficulty']==2,'difficulty']='B1'\n",
        "    df.loc[df['difficulty']==3,'difficulty']='B2'\n",
        "    df.loc[df['difficulty']==4,'difficulty']='C1'\n",
        "    df.loc[df['difficulty']==5,'difficulty']='C2'\n"
      ]
    },
    {
      "cell_type": "code",
      "execution_count": null,
      "metadata": {
        "id": "F8avKIPT94x5"
      },
      "outputs": [],
      "source": [
        "# Convert the difficulty level from language level to 0 to 5 scale\n",
        "convert_difficulty(df_train, reverse=False)\n",
        "\n",
        "# Split data in X and Y\n",
        "y = df_train['difficulty'] # dependent var\n",
        "X = df_train['sentence'] # independent var\n",
        "\n",
        "# Split train test\n",
        "from sklearn.model_selection import train_test_split\n",
        "X_train, X_test, y_train, y_test = train_test_split(X,y,\n",
        "                                                    test_size=0.2,\n",
        "                                                    random_state=0,\n",
        "                                                    stratify=y)\n",
        "# Transfrom 'difficulty' label to integer \n",
        "y_test = y_test.astype('int')\n",
        "y_train = y_train.astype('int')"
      ]
    },
    {
      "cell_type": "code",
      "execution_count": null,
      "metadata": {
        "id": "-UKSXLK-78wE"
      },
      "outputs": [],
      "source": [
        "from sklearn.metrics import classification_report\n",
        "from sklearn.pipeline import Pipeline\n",
        "\n",
        "tfidf_vector = TfidfVectorizer()\n",
        "\n",
        "def evaluate_model(name, classifier, X_train, y_train, X_test, y_test):\n",
        "    \"\"\"\n",
        "    This function evaluates a classification model and returns the most important metrics: the model accuracy, precision, recall and F1 scores.\n",
        "    To use it, enter a name for your model (str), the classifier used, and then the features of the testing and training set.\n",
        "    \"\"\"\n",
        "    # First the vectoriser transform the input data into numerical data\n",
        "    # Then the classifier use this data to train a model and predict the result of the evaluation\n",
        "    pipe = Pipeline([('vectorizer', tfidf_vector),\n",
        "                     ('classifier', classifier)])\n",
        "    pipe.fit(X_train, y_train)\n",
        "    y_pred = pipe.predict(X_test)\n",
        "    report = classification_report(y_test, y_pred, digits=6, output_dict=True)\n",
        "    \n",
        "    # We then extract the most relevant metrics from the classification_report\n",
        "    results = {\n",
        "        'model': name,\n",
        "        'accuracy': round(report['accuracy'], 6),\n",
        "        'precision': round(report['1']['precision'], 6),\n",
        "        'recall': round(report['1']['recall'], 6),\n",
        "        'f1_score': round(report['1']['f1-score'], 6)\n",
        "    }\n",
        "    # To return them as the output of our function\n",
        "    return results"
      ]
    },
    {
      "cell_type": "code",
      "execution_count": null,
      "metadata": {
        "colab": {
          "base_uri": "https://localhost:8080/"
        },
        "id": "Z2USQi04slzm",
        "outputId": "0a3ac607-5d86-4782-d00a-c27de24c63c5"
      },
      "outputs": [
        {
          "output_type": "execute_result",
          "data": {
            "text/plain": [
              "{'model': 'Logistic Regression',\n",
              " 'accuracy': 0.460417,\n",
              " 'precision': 0.451389,\n",
              " 'recall': 0.408805,\n",
              " 'f1_score': 0.429043}"
            ]
          },
          "metadata": {},
          "execution_count": 8
        }
      ],
      "source": [
        "# For the logistic regression\n",
        "log_reg = LogisticRegression(random_state=0)\n",
        "\n",
        "# Evaluate the logistic regression\n",
        "report_logistic = evaluate_model('Logistic Regression',\n",
        "                                 log_reg,\n",
        "                                 X_train, y_train, X_test, y_test)\n",
        "report_logistic"
      ]
    },
    {
      "cell_type": "markdown",
      "metadata": {
        "id": "9D3_dp3apcmr"
      },
      "source": [
        "We then had a look at the multi-class confusion matrix and identified a few examples of sentences that are not well classified with our model."
      ]
    },
    {
      "cell_type": "code",
      "execution_count": null,
      "metadata": {
        "colab": {
          "base_uri": "https://localhost:8080/",
          "height": 282
        },
        "id": "ZSyKq3h_qZmX",
        "outputId": "54d5c672-e36a-4df7-8f00-7dd871813342"
      },
      "outputs": [
        {
          "output_type": "execute_result",
          "data": {
            "text/plain": [
              "<matplotlib.axes._subplots.AxesSubplot at 0x7f9387f13f40>"
            ]
          },
          "metadata": {},
          "execution_count": 9
        },
        {
          "output_type": "display_data",
          "data": {
            "text/plain": [
              "<Figure size 432x288 with 2 Axes>"
            ],
            "image/png": "[encoded data removed]"
          },
          "metadata": {}
        }
      ],
      "source": [
        "import seaborn as sns\n",
        "\n",
        "pipe = Pipeline([('vectorizer', tfidf_vector),('classifier', log_reg)])\n",
        "pipe.fit(X_train, y_train)\n",
        "y_pred = pipe.predict(X_test)\n",
        "\n",
        "# To plot the confusion matrix\n",
        "sns.set_style(\"whitegrid\")\n",
        "sns.heatmap(pd.DataFrame(confusion_matrix(y_test, y_pred)), annot=True, cmap='Blues', fmt='.4g')"
      ]
    },
    {
      "cell_type": "markdown",
      "source": [
        "The multi-class confusion matrix above shows how well the Logistic Regression model performed, how much predictions it did were right.\n",
        "\n",
        "The matrix below shows where the TP, TN, FP, FN are for a multi-class (non-binary) classification problem.\n",
        "\n",
        "<img src=\"https://pictshare.net/z2lpl2.png\" alt=\"matrix\" width=\"300\"/>\n",
        "\n",
        "So for our problem, we can see that the Logistic Regression model is better a predicting the language level for sentences that are written in a very good level (5 is for C2) and a very low one (0 is for A1), as it's were the matrix has more TP."
      ],
      "metadata": {
        "id": "s3VPZq1jgoxW"
      }
    },
    {
      "cell_type": "code",
      "execution_count": null,
      "metadata": {
        "colab": {
          "base_uri": "https://localhost:8080/"
        },
        "id": "BmCyU5oztLxq",
        "outputId": "58dd867e-f681-4985-a97a-dd7c9421bd0c"
      },
      "outputs": [
        {
          "output_type": "execute_result",
          "data": {
            "text/plain": [
              "2003    Il est également connu pour ses publicités tél...\n",
              "2585    Edgar, étincelant de furie, dominait tous les ...\n",
              "2302                                    Ils sont heureux.\n",
              "2958    Les canons renversèrent d'abord à peu près six...\n",
              "3862    Parce que la philosophie se trouve de plus en ...\n",
              "Name: sentence, dtype: object"
            ]
          },
          "metadata": {},
          "execution_count": 10
        }
      ],
      "source": [
        "# Here are a few examples of sentences that were not well classified\n",
        "X_test[y_test !=y_pred].head()"
      ]
    },
    {
      "cell_type": "markdown",
      "source": [
        "We now proceeded to upload our first submission on the Kaggle competition we the accuracy of our first Logistic Regression model without data cleaning."
      ],
      "metadata": {
        "id": "8LCrt8QOl5-r"
      }
    },
    {
      "cell_type": "code",
      "execution_count": null,
      "metadata": {
        "id": "gT-UkYOYsYHy",
        "colab": {
          "base_uri": "https://localhost:8080/",
          "height": 206
        },
        "outputId": "d99538cc-c9ac-48da-a87f-6e4a7668ef85"
      },
      "outputs": [
        {
          "output_type": "execute_result",
          "data": {
            "text/plain": [
              "   id                                           sentence difficulty\n",
              "0   0  Nous dûmes nous excuser des propos que nous eû...         C2\n",
              "1   1  Vous ne pouvez pas savoir le plaisir que j'ai ...         B1\n",
              "2   2  Et, paradoxalement, boire froid n'est pas la b...         A1\n",
              "3   3  Ce n'est pas étonnant, car c'est une saison my...         A1\n",
              "4   4  Le corps de Golo lui-même, d'une essence aussi...         C2"
            ],
            "text/html": [
              "\n",
              "  <div id=\"df-5f3313a5-7ce0-4e89-a5e9-dacb3f4c4791\">\n",
              "    <div class=\"colab-df-container\">\n",
              "      <div>\n",
              "<style scoped>\n",
              "    .dataframe tbody tr th:only-of-type {\n",
              "        vertical-align: middle;\n",
              "    }\n",
              "\n",
              "    .dataframe tbody tr th {\n",
              "        vertical-align: top;\n",
              "    }\n",
              "\n",
              "    .dataframe thead th {\n",
              "        text-align: right;\n",
              "    }\n",
              "</style>\n",
              "<table border=\"1\" class=\"dataframe\">\n",
              "  <thead>\n",
              "    <tr style=\"text-align: right;\">\n",
              "      <th></th>\n",
              "      <th>id</th>\n",
              "      <th>sentence</th>\n",
              "      <th>difficulty</th>\n",
              "    </tr>\n",
              "  </thead>\n",
              "  <tbody>\n",
              "    <tr>\n",
              "      <th>0</th>\n",
              "      <td>0</td>\n",
              "      <td>Nous dûmes nous excuser des propos que nous eû...</td>\n",
              "      <td>C2</td>\n",
              "    </tr>\n",
              "    <tr>\n",
              "      <th>1</th>\n",
              "      <td>1</td>\n",
              "      <td>Vous ne pouvez pas savoir le plaisir que j'ai ...</td>\n",
              "      <td>B1</td>\n",
              "    </tr>\n",
              "    <tr>\n",
              "      <th>2</th>\n",
              "      <td>2</td>\n",
              "      <td>Et, paradoxalement, boire froid n'est pas la b...</td>\n",
              "      <td>A1</td>\n",
              "    </tr>\n",
              "    <tr>\n",
              "      <th>3</th>\n",
              "      <td>3</td>\n",
              "      <td>Ce n'est pas étonnant, car c'est une saison my...</td>\n",
              "      <td>A1</td>\n",
              "    </tr>\n",
              "    <tr>\n",
              "      <th>4</th>\n",
              "      <td>4</td>\n",
              "      <td>Le corps de Golo lui-même, d'une essence aussi...</td>\n",
              "      <td>C2</td>\n",
              "    </tr>\n",
              "  </tbody>\n",
              "</table>\n",
              "</div>\n",
              "      <button class=\"colab-df-convert\" onclick=\"convertToInteractive('df-5f3313a5-7ce0-4e89-a5e9-dacb3f4c4791')\"\n",
              "              title=\"Convert this dataframe to an interactive table.\"\n",
              "              style=\"display:none;\">\n",
              "        \n",
              "  <svg xmlns=\"http://www.w3.org/2000/svg\" height=\"24px\"viewBox=\"0 0 24 24\"\n",
              "       width=\"24px\">\n",
              "    <path d=\"M0 0h24v24H0V0z\" fill=\"none\"/>\n",
              "    <path d=\"M18.56 5.44l.94 2.06.94-2.06 2.06-.94-2.06-.94-.94-2.06-.94 2.06-2.06.94zm-11 1L8.5 8.5l.94-2.06 2.06-.94-2.06-.94L8.5 2.5l-.94 2.06-2.06.94zm10 10l.94 2.06.94-2.06 2.06-.94-2.06-.94-.94-2.06-.94 2.06-2.06.94z\"/><path d=\"M17.41 7.96l-1.37-1.37c-.4-.4-.92-.59-1.43-.59-.52 0-1.04.2-1.43.59L10.3 9.45l-7.72 7.72c-.78.78-.78 2.05 0 2.83L4 21.41c.39.39.9.59 1.41.59.51 0 1.02-.2 1.41-.59l7.78-7.78 2.81-2.81c.8-.78.8-2.07 0-2.86zM5.41 20L4 18.59l7.72-7.72 1.47 1.35L5.41 20z\"/>\n",
              "  </svg>\n",
              "      </button>\n",
              "      \n",
              "  <style>\n",
              "    .colab-df-container {\n",
              "      display:flex;\n",
              "      flex-wrap:wrap;\n",
              "      gap: 12px;\n",
              "    }\n",
              "\n",
              "    .colab-df-convert {\n",
              "      background-color: #E8F0FE;\n",
              "      border: none;\n",
              "      border-radius: 50%;\n",
              "      cursor: pointer;\n",
              "      display: none;\n",
              "      fill: #1967D2;\n",
              "      height: 32px;\n",
              "      padding: 0 0 0 0;\n",
              "      width: 32px;\n",
              "    }\n",
              "\n",
              "    .colab-df-convert:hover {\n",
              "      background-color: #E2EBFA;\n",
              "      box-shadow: 0px 1px 2px rgba(60, 64, 67, 0.3), 0px 1px 3px 1px rgba(60, 64, 67, 0.15);\n",
              "      fill: #174EA6;\n",
              "    }\n",
              "\n",
              "    [theme=dark] .colab-df-convert {\n",
              "      background-color: #3B4455;\n",
              "      fill: #D2E3FC;\n",
              "    }\n",
              "\n",
              "    [theme=dark] .colab-df-convert:hover {\n",
              "      background-color: #434B5C;\n",
              "      box-shadow: 0px 1px 3px 1px rgba(0, 0, 0, 0.15);\n",
              "      filter: drop-shadow(0px 1px 2px rgba(0, 0, 0, 0.3));\n",
              "      fill: #FFFFFF;\n",
              "    }\n",
              "  </style>\n",
              "\n",
              "      <script>\n",
              "        const buttonEl =\n",
              "          document.querySelector('#df-5f3313a5-7ce0-4e89-a5e9-dacb3f4c4791 button.colab-df-convert');\n",
              "        buttonEl.style.display =\n",
              "          google.colab.kernel.accessAllowed ? 'block' : 'none';\n",
              "\n",
              "        async function convertToInteractive(key) {\n",
              "          const element = document.querySelector('#df-5f3313a5-7ce0-4e89-a5e9-dacb3f4c4791');\n",
              "          const dataTable =\n",
              "            await google.colab.kernel.invokeFunction('convertToInteractive',\n",
              "                                                     [key], {});\n",
              "          if (!dataTable) return;\n",
              "\n",
              "          const docLinkHtml = 'Like what you see? Visit the ' +\n",
              "            '<a target=\"_blank\" href=https://colab.research.google.com/notebooks/data_table.ipynb>data table notebook</a>'\n",
              "            + ' to learn more about interactive tables.';\n",
              "          element.innerHTML = '';\n",
              "          dataTable['output_type'] = 'display_data';\n",
              "          await google.colab.output.renderOutput(dataTable, element);\n",
              "          const docLink = document.createElement('div');\n",
              "          docLink.innerHTML = docLinkHtml;\n",
              "          element.appendChild(docLink);\n",
              "        }\n",
              "      </script>\n",
              "    </div>\n",
              "  </div>\n",
              "  "
            ]
          },
          "metadata": {},
          "execution_count": 11
        }
      ],
      "source": [
        "# Generate a first prediction\n",
        "# Add prediction in df_pred as 'difficulty' column\n",
        "df_pred['difficulty'] = pipe.predict(df_pred['sentence'])\n",
        "\n",
        "# Transform column 'difficulty' back to language level\n",
        "convert_difficulty(df_pred, reverse=True)\n",
        "\n",
        "# Show a few predictions\n",
        "df_pred.head()"
      ]
    },
    {
      "cell_type": "code",
      "execution_count": null,
      "metadata": {
        "colab": {
          "base_uri": "https://localhost:8080/",
          "height": 206
        },
        "id": "LB08CZcCwfnl",
        "outputId": "f0b8f855-e89b-4d8d-9b18-3b92cec2de8f"
      },
      "outputs": [
        {
          "output_type": "execute_result",
          "data": {
            "text/plain": [
              "   id difficulty\n",
              "0   0         C2\n",
              "1   1         B1\n",
              "2   2         A1\n",
              "3   3         A1\n",
              "4   4         C2"
            ],
            "text/html": [
              "\n",
              "  <div id=\"df-140d19cd-a84c-4a96-9e32-29911dc603a9\">\n",
              "    <div class=\"colab-df-container\">\n",
              "      <div>\n",
              "<style scoped>\n",
              "    .dataframe tbody tr th:only-of-type {\n",
              "        vertical-align: middle;\n",
              "    }\n",
              "\n",
              "    .dataframe tbody tr th {\n",
              "        vertical-align: top;\n",
              "    }\n",
              "\n",
              "    .dataframe thead th {\n",
              "        text-align: right;\n",
              "    }\n",
              "</style>\n",
              "<table border=\"1\" class=\"dataframe\">\n",
              "  <thead>\n",
              "    <tr style=\"text-align: right;\">\n",
              "      <th></th>\n",
              "      <th>id</th>\n",
              "      <th>difficulty</th>\n",
              "    </tr>\n",
              "  </thead>\n",
              "  <tbody>\n",
              "    <tr>\n",
              "      <th>0</th>\n",
              "      <td>0</td>\n",
              "      <td>C2</td>\n",
              "    </tr>\n",
              "    <tr>\n",
              "      <th>1</th>\n",
              "      <td>1</td>\n",
              "      <td>B1</td>\n",
              "    </tr>\n",
              "    <tr>\n",
              "      <th>2</th>\n",
              "      <td>2</td>\n",
              "      <td>A1</td>\n",
              "    </tr>\n",
              "    <tr>\n",
              "      <th>3</th>\n",
              "      <td>3</td>\n",
              "      <td>A1</td>\n",
              "    </tr>\n",
              "    <tr>\n",
              "      <th>4</th>\n",
              "      <td>4</td>\n",
              "      <td>C2</td>\n",
              "    </tr>\n",
              "  </tbody>\n",
              "</table>\n",
              "</div>\n",
              "      <button class=\"colab-df-convert\" onclick=\"convertToInteractive('df-140d19cd-a84c-4a96-9e32-29911dc603a9')\"\n",
              "              title=\"Convert this dataframe to an interactive table.\"\n",
              "              style=\"display:none;\">\n",
              "        \n",
              "  <svg xmlns=\"http://www.w3.org/2000/svg\" height=\"24px\"viewBox=\"0 0 24 24\"\n",
              "       width=\"24px\">\n",
              "    <path d=\"M0 0h24v24H0V0z\" fill=\"none\"/>\n",
              "    <path d=\"M18.56 5.44l.94 2.06.94-2.06 2.06-.94-2.06-.94-.94-2.06-.94 2.06-2.06.94zm-11 1L8.5 8.5l.94-2.06 2.06-.94-2.06-.94L8.5 2.5l-.94 2.06-2.06.94zm10 10l.94 2.06.94-2.06 2.06-.94-2.06-.94-.94-2.06-.94 2.06-2.06.94z\"/><path d=\"M17.41 7.96l-1.37-1.37c-.4-.4-.92-.59-1.43-.59-.52 0-1.04.2-1.43.59L10.3 9.45l-7.72 7.72c-.78.78-.78 2.05 0 2.83L4 21.41c.39.39.9.59 1.41.59.51 0 1.02-.2 1.41-.59l7.78-7.78 2.81-2.81c.8-.78.8-2.07 0-2.86zM5.41 20L4 18.59l7.72-7.72 1.47 1.35L5.41 20z\"/>\n",
              "  </svg>\n",
              "      </button>\n",
              "      \n",
              "  <style>\n",
              "    .colab-df-container {\n",
              "      display:flex;\n",
              "      flex-wrap:wrap;\n",
              "      gap: 12px;\n",
              "    }\n",
              "\n",
              "    .colab-df-convert {\n",
              "      background-color: #E8F0FE;\n",
              "      border: none;\n",
              "      border-radius: 50%;\n",
              "      cursor: pointer;\n",
              "      display: none;\n",
              "      fill: #1967D2;\n",
              "      height: 32px;\n",
              "      padding: 0 0 0 0;\n",
              "      width: 32px;\n",
              "    }\n",
              "\n",
              "    .colab-df-convert:hover {\n",
              "      background-color: #E2EBFA;\n",
              "      box-shadow: 0px 1px 2px rgba(60, 64, 67, 0.3), 0px 1px 3px 1px rgba(60, 64, 67, 0.15);\n",
              "      fill: #174EA6;\n",
              "    }\n",
              "\n",
              "    [theme=dark] .colab-df-convert {\n",
              "      background-color: #3B4455;\n",
              "      fill: #D2E3FC;\n",
              "    }\n",
              "\n",
              "    [theme=dark] .colab-df-convert:hover {\n",
              "      background-color: #434B5C;\n",
              "      box-shadow: 0px 1px 3px 1px rgba(0, 0, 0, 0.15);\n",
              "      filter: drop-shadow(0px 1px 2px rgba(0, 0, 0, 0.3));\n",
              "      fill: #FFFFFF;\n",
              "    }\n",
              "  </style>\n",
              "\n",
              "      <script>\n",
              "        const buttonEl =\n",
              "          document.querySelector('#df-140d19cd-a84c-4a96-9e32-29911dc603a9 button.colab-df-convert');\n",
              "        buttonEl.style.display =\n",
              "          google.colab.kernel.accessAllowed ? 'block' : 'none';\n",
              "\n",
              "        async function convertToInteractive(key) {\n",
              "          const element = document.querySelector('#df-140d19cd-a84c-4a96-9e32-29911dc603a9');\n",
              "          const dataTable =\n",
              "            await google.colab.kernel.invokeFunction('convertToInteractive',\n",
              "                                                     [key], {});\n",
              "          if (!dataTable) return;\n",
              "\n",
              "          const docLinkHtml = 'Like what you see? Visit the ' +\n",
              "            '<a target=\"_blank\" href=https://colab.research.google.com/notebooks/data_table.ipynb>data table notebook</a>'\n",
              "            + ' to learn more about interactive tables.';\n",
              "          element.innerHTML = '';\n",
              "          dataTable['output_type'] = 'display_data';\n",
              "          await google.colab.output.renderOutput(dataTable, element);\n",
              "          const docLink = document.createElement('div');\n",
              "          docLink.innerHTML = docLinkHtml;\n",
              "          element.appendChild(docLink);\n",
              "        }\n",
              "      </script>\n",
              "    </div>\n",
              "  </div>\n",
              "  "
            ]
          },
          "metadata": {},
          "execution_count": 12
        }
      ],
      "source": [
        "# To make our first submission to the Kaggle competition\n",
        "# Rename the dataframe\n",
        "df_pred_submission = df_pred\n",
        "\n",
        "# Delete columns 'sentence' to fit the submission format for kaggle \n",
        "df_pred_submission.pop('sentence')\n",
        "\n",
        "# Show the df in the good format\n",
        "df_pred_submission.head()"
      ]
    },
    {
      "cell_type": "code",
      "source": [
        "# Save a csv file to upload on Kaggle\n",
        "df_pred_submission.to_csv('UNIL_Apple_submission.csv',index=False)"
      ],
      "metadata": {
        "id": "J9E4g_bilzgM"
      },
      "execution_count": null,
      "outputs": []
    },
    {
      "cell_type": "markdown",
      "metadata": {
        "id": "vXG_yIG_pQ8t"
      },
      "source": [
        "### 2.2. K-nearest neighbour model\n",
        "\n",
        "The second model we tested is the KNN model."
      ]
    },
    {
      "cell_type": "code",
      "execution_count": null,
      "metadata": {
        "colab": {
          "base_uri": "https://localhost:8080/"
        },
        "id": "GPRjD1rSqKKZ",
        "outputId": "06d151e9-41da-4245-f733-e16cd3bd493f"
      },
      "outputs": [
        {
          "output_type": "execute_result",
          "data": {
            "text/plain": [
              "{'model': 'K-Nearest Neighbour',\n",
              " 'accuracy': 0.315625,\n",
              " 'precision': 0.26484,\n",
              " 'recall': 0.36478,\n",
              " 'f1_score': 0.306878}"
            ]
          },
          "metadata": {},
          "execution_count": 14
        }
      ],
      "source": [
        "from sklearn.neighbors import KNeighborsClassifier\n",
        "# For the basic KNN model\n",
        "knn = KNeighborsClassifier()\n",
        "\n",
        "# Evaluate the KNN model\n",
        "report_knn = evaluate_model('K-Nearest Neighbour',knn,X_train, y_train, X_test, y_test)\n",
        "report_knn"
      ]
    },
    {
      "cell_type": "markdown",
      "metadata": {
        "id": "D6rH2Hx0qtB2"
      },
      "source": [
        "We tried to improve the accuracy by tuning the hyper parameters `n_neighbors`, `p`, and `weights` with different methods:\n",
        "- first the grid search with cross-validation returned `n_neighbors`: 3, `p`: 2, `weights`: 'distance' \n",
        "- second the randomised search returned most of the time `n_neighbors`: 11, `p`: 2, `weights`: 'distance' \n",
        "- then we tried by trials & errors and tested `n_neighbors`: 5, `p`: 2, `weights`: 'distance'"
      ]
    },
    {
      "cell_type": "code",
      "execution_count": null,
      "metadata": {
        "id": "243i8upArYAX",
        "colab": {
          "base_uri": "https://localhost:8080/"
        },
        "outputId": "e48385c5-7801-4af5-89e2-db76fd510d2b"
      },
      "outputs": [
        {
          "output_type": "stream",
          "name": "stdout",
          "text": [
            "{'n_neighbors': 3, 'weights': 'distance'}\n"
          ]
        }
      ],
      "source": [
        "# Improve the metrics with grid search and cross-validation\n",
        "from sklearn.model_selection import GridSearchCV\n",
        "\n",
        "# Vectorise the sentences & convert y to integer\n",
        "X_vectorised = X.copy()\n",
        "X_vectorised = tfidf_vector.fit_transform(X_vectorised)\n",
        "y_int = y.astype('int')\n",
        "\n",
        "# Look for best parameters with grid search CV\n",
        "param_grid = {\n",
        "    'n_neighbors': [3, 5, 7, 9, 11, 13],\n",
        "    'weights': ['uniform', 'distance'],\n",
        "}\n",
        "\n",
        "grid_search = GridSearchCV(knn, param_grid, cv=5, scoring='accuracy')\n",
        "grid_search.fit(X_vectorised, y_int)\n",
        "\n",
        "print(grid_search.best_params_)"
      ]
    },
    {
      "cell_type": "code",
      "execution_count": null,
      "metadata": {
        "colab": {
          "base_uri": "https://localhost:8080/"
        },
        "id": "k42AeQWXuteq",
        "outputId": "e3327786-eb52-465c-e177-b81a17cc1bcf"
      },
      "outputs": [
        {
          "output_type": "execute_result",
          "data": {
            "text/plain": [
              "{'model': 'KNN Grid Search CV',\n",
              " 'accuracy': 0.361458,\n",
              " 'precision': 0.30622,\n",
              " 'recall': 0.402516,\n",
              " 'f1_score': 0.347826}"
            ]
          },
          "metadata": {},
          "execution_count": 16
        }
      ],
      "source": [
        "# With the Grid Search CV parameters\n",
        "knn_best_parameters_grid = KNeighborsClassifier(n_neighbors=3, weights=\"distance\")\n",
        "\n",
        "report_knn_grid_CV = evaluate_model('KNN Grid Search CV',knn_best_parameters_grid,X_train, y_train, X_test, y_test)\n",
        "report_knn_grid_CV"
      ]
    },
    {
      "cell_type": "code",
      "execution_count": null,
      "metadata": {
        "colab": {
          "base_uri": "https://localhost:8080/"
        },
        "id": "9HJfgqB_vnzA",
        "outputId": "0b77dd08-4aaf-43c0-b387-102483baad49"
      },
      "outputs": [
        {
          "output_type": "stream",
          "name": "stdout",
          "text": [
            "{'weights': 'distance', 'n_neighbors': 11}\n"
          ]
        }
      ],
      "source": [
        "# Improve the metrics with randomised search and cross-validation \n",
        "from sklearn.model_selection import RandomizedSearchCV\n",
        "\n",
        "param_dist = {\n",
        "    'n_neighbors': [3, 5, 7, 9, 11, 13],\n",
        "    'weights': ['uniform', 'distance']\n",
        "}\n",
        "\n",
        "random_search = RandomizedSearchCV(knn, param_dist, cv=5, scoring='accuracy')\n",
        "random_search.fit(X_vectorised, y_int)\n",
        "\n",
        "print(random_search.best_params_)"
      ]
    },
    {
      "cell_type": "code",
      "source": [
        "# With the Random Search CV parameters\n",
        "knn_best_parameters_random = KNeighborsClassifier(n_neighbors=11, weights=\"distance\")\n",
        "\n",
        "report_knn_random_CV = evaluate_model('KNN Random Search CV',knn_best_parameters_random,X_train, y_train, X_test, y_test)\n",
        "report_knn_random_CV"
      ],
      "metadata": {
        "colab": {
          "base_uri": "https://localhost:8080/"
        },
        "id": "UUvW8O6Sw_WS",
        "outputId": "2756d805-1a6f-49ed-dd32-4f912a519e60"
      },
      "execution_count": null,
      "outputs": [
        {
          "output_type": "execute_result",
          "data": {
            "text/plain": [
              "{'model': 'KNN Random Search CV',\n",
              " 'accuracy': 0.351042,\n",
              " 'precision': 0.278539,\n",
              " 'recall': 0.383648,\n",
              " 'f1_score': 0.322751}"
            ]
          },
          "metadata": {},
          "execution_count": 18
        }
      ]
    },
    {
      "cell_type": "code",
      "execution_count": null,
      "metadata": {
        "colab": {
          "base_uri": "https://localhost:8080/"
        },
        "id": "wRy18Ce_qxPc",
        "outputId": "73084076-1799-4f89-aaa4-def00600cfd2"
      },
      "outputs": [
        {
          "output_type": "execute_result",
          "data": {
            "text/plain": [
              "{'model': 'KNN Trials & Errors',\n",
              " 'accuracy': 0.372917,\n",
              " 'precision': 0.298643,\n",
              " 'recall': 0.415094,\n",
              " 'f1_score': 0.347368}"
            ]
          },
          "metadata": {},
          "execution_count": 19
        }
      ],
      "source": [
        "# Those parameters were found by trial and error:\n",
        "knn_parameters = KNeighborsClassifier(n_neighbors=5, p=2, weights=\"distance\")\n",
        "\n",
        "# Evaluate with the parameters\n",
        "report_knn_trial_and_errors = evaluate_model('KNN Trials & Errors',knn_parameters,X_train, y_train, X_test, y_test)\n",
        "report_knn_trial_and_errors"
      ]
    },
    {
      "cell_type": "markdown",
      "source": [
        "### Conclusion of the KNN model\n",
        "\n",
        "Below is a table of the different accuracies given by the methods we tried, it is sorted from best to worse results."
      ],
      "metadata": {
        "id": "SE0w3xp-3vzW"
      }
    },
    {
      "cell_type": "code",
      "source": [
        "results_knn = pd.DataFrame([report_knn,\n",
        "                            report_knn_grid_CV,\n",
        "                            report_knn_random_CV,\n",
        "                            report_knn_trial_and_errors])\n",
        "results_knn.sort_values(by='accuracy', ascending=False)"
      ],
      "metadata": {
        "colab": {
          "base_uri": "https://localhost:8080/",
          "height": 175
        },
        "id": "aTQ3P_mQ3fT5",
        "outputId": "83d011c3-dc82-4902-c128-abf89d25bc48"
      },
      "execution_count": null,
      "outputs": [
        {
          "output_type": "execute_result",
          "data": {
            "text/plain": [
              "                  model  accuracy  precision    recall  f1_score\n",
              "3   KNN Trials & Errors  0.372917   0.298643  0.415094  0.347368\n",
              "1    KNN Grid Search CV  0.361458   0.306220  0.402516  0.347826\n",
              "2  KNN Random Search CV  0.351042   0.278539  0.383648  0.322751\n",
              "0   K-Nearest Neighbour  0.315625   0.264840  0.364780  0.306878"
            ],
            "text/html": [
              "\n",
              "  <div id=\"df-6384f0ba-57b0-4e4e-934f-e8b7c865b06e\">\n",
              "    <div class=\"colab-df-container\">\n",
              "      <div>\n",
              "<style scoped>\n",
              "    .dataframe tbody tr th:only-of-type {\n",
              "        vertical-align: middle;\n",
              "    }\n",
              "\n",
              "    .dataframe tbody tr th {\n",
              "        vertical-align: top;\n",
              "    }\n",
              "\n",
              "    .dataframe thead th {\n",
              "        text-align: right;\n",
              "    }\n",
              "</style>\n",
              "<table border=\"1\" class=\"dataframe\">\n",
              "  <thead>\n",
              "    <tr style=\"text-align: right;\">\n",
              "      <th></th>\n",
              "      <th>model</th>\n",
              "      <th>accuracy</th>\n",
              "      <th>precision</th>\n",
              "      <th>recall</th>\n",
              "      <th>f1_score</th>\n",
              "    </tr>\n",
              "  </thead>\n",
              "  <tbody>\n",
              "    <tr>\n",
              "      <th>3</th>\n",
              "      <td>KNN Trials &amp; Errors</td>\n",
              "      <td>0.372917</td>\n",
              "      <td>0.298643</td>\n",
              "      <td>0.415094</td>\n",
              "      <td>0.347368</td>\n",
              "    </tr>\n",
              "    <tr>\n",
              "      <th>1</th>\n",
              "      <td>KNN Grid Search CV</td>\n",
              "      <td>0.361458</td>\n",
              "      <td>0.306220</td>\n",
              "      <td>0.402516</td>\n",
              "      <td>0.347826</td>\n",
              "    </tr>\n",
              "    <tr>\n",
              "      <th>2</th>\n",
              "      <td>KNN Random Search CV</td>\n",
              "      <td>0.351042</td>\n",
              "      <td>0.278539</td>\n",
              "      <td>0.383648</td>\n",
              "      <td>0.322751</td>\n",
              "    </tr>\n",
              "    <tr>\n",
              "      <th>0</th>\n",
              "      <td>K-Nearest Neighbour</td>\n",
              "      <td>0.315625</td>\n",
              "      <td>0.264840</td>\n",
              "      <td>0.364780</td>\n",
              "      <td>0.306878</td>\n",
              "    </tr>\n",
              "  </tbody>\n",
              "</table>\n",
              "</div>\n",
              "      <button class=\"colab-df-convert\" onclick=\"convertToInteractive('df-6384f0ba-57b0-4e4e-934f-e8b7c865b06e')\"\n",
              "              title=\"Convert this dataframe to an interactive table.\"\n",
              "              style=\"display:none;\">\n",
              "        \n",
              "  <svg xmlns=\"http://www.w3.org/2000/svg\" height=\"24px\"viewBox=\"0 0 24 24\"\n",
              "       width=\"24px\">\n",
              "    <path d=\"M0 0h24v24H0V0z\" fill=\"none\"/>\n",
              "    <path d=\"M18.56 5.44l.94 2.06.94-2.06 2.06-.94-2.06-.94-.94-2.06-.94 2.06-2.06.94zm-11 1L8.5 8.5l.94-2.06 2.06-.94-2.06-.94L8.5 2.5l-.94 2.06-2.06.94zm10 10l.94 2.06.94-2.06 2.06-.94-2.06-.94-.94-2.06-.94 2.06-2.06.94z\"/><path d=\"M17.41 7.96l-1.37-1.37c-.4-.4-.92-.59-1.43-.59-.52 0-1.04.2-1.43.59L10.3 9.45l-7.72 7.72c-.78.78-.78 2.05 0 2.83L4 21.41c.39.39.9.59 1.41.59.51 0 1.02-.2 1.41-.59l7.78-7.78 2.81-2.81c.8-.78.8-2.07 0-2.86zM5.41 20L4 18.59l7.72-7.72 1.47 1.35L5.41 20z\"/>\n",
              "  </svg>\n",
              "      </button>\n",
              "      \n",
              "  <style>\n",
              "    .colab-df-container {\n",
              "      display:flex;\n",
              "      flex-wrap:wrap;\n",
              "      gap: 12px;\n",
              "    }\n",
              "\n",
              "    .colab-df-convert {\n",
              "      background-color: #E8F0FE;\n",
              "      border: none;\n",
              "      border-radius: 50%;\n",
              "      cursor: pointer;\n",
              "      display: none;\n",
              "      fill: #1967D2;\n",
              "      height: 32px;\n",
              "      padding: 0 0 0 0;\n",
              "      width: 32px;\n",
              "    }\n",
              "\n",
              "    .colab-df-convert:hover {\n",
              "      background-color: #E2EBFA;\n",
              "      box-shadow: 0px 1px 2px rgba(60, 64, 67, 0.3), 0px 1px 3px 1px rgba(60, 64, 67, 0.15);\n",
              "      fill: #174EA6;\n",
              "    }\n",
              "\n",
              "    [theme=dark] .colab-df-convert {\n",
              "      background-color: #3B4455;\n",
              "      fill: #D2E3FC;\n",
              "    }\n",
              "\n",
              "    [theme=dark] .colab-df-convert:hover {\n",
              "      background-color: #434B5C;\n",
              "      box-shadow: 0px 1px 3px 1px rgba(0, 0, 0, 0.15);\n",
              "      filter: drop-shadow(0px 1px 2px rgba(0, 0, 0, 0.3));\n",
              "      fill: #FFFFFF;\n",
              "    }\n",
              "  </style>\n",
              "\n",
              "      <script>\n",
              "        const buttonEl =\n",
              "          document.querySelector('#df-6384f0ba-57b0-4e4e-934f-e8b7c865b06e button.colab-df-convert');\n",
              "        buttonEl.style.display =\n",
              "          google.colab.kernel.accessAllowed ? 'block' : 'none';\n",
              "\n",
              "        async function convertToInteractive(key) {\n",
              "          const element = document.querySelector('#df-6384f0ba-57b0-4e4e-934f-e8b7c865b06e');\n",
              "          const dataTable =\n",
              "            await google.colab.kernel.invokeFunction('convertToInteractive',\n",
              "                                                     [key], {});\n",
              "          if (!dataTable) return;\n",
              "\n",
              "          const docLinkHtml = 'Like what you see? Visit the ' +\n",
              "            '<a target=\"_blank\" href=https://colab.research.google.com/notebooks/data_table.ipynb>data table notebook</a>'\n",
              "            + ' to learn more about interactive tables.';\n",
              "          element.innerHTML = '';\n",
              "          dataTable['output_type'] = 'display_data';\n",
              "          await google.colab.output.renderOutput(dataTable, element);\n",
              "          const docLink = document.createElement('div');\n",
              "          docLink.innerHTML = docLinkHtml;\n",
              "          element.appendChild(docLink);\n",
              "        }\n",
              "      </script>\n",
              "    </div>\n",
              "  </div>\n",
              "  "
            ]
          },
          "metadata": {},
          "execution_count": 20
        }
      ]
    },
    {
      "cell_type": "markdown",
      "metadata": {
        "id": "FFNH1WgNqc62"
      },
      "source": [
        "### 2.3. Decision Tree Classifier\n",
        "\n",
        "We then tested the decision tree classifier."
      ]
    },
    {
      "cell_type": "code",
      "execution_count": null,
      "metadata": {
        "colab": {
          "base_uri": "https://localhost:8080/"
        },
        "id": "d4PByPdGq0FV",
        "outputId": "0e649035-b6eb-4736-f24d-83ee46d0af7e"
      },
      "outputs": [
        {
          "output_type": "execute_result",
          "data": {
            "text/plain": [
              "{'model': 'Decision Tree',\n",
              " 'accuracy': 0.302083,\n",
              " 'precision': 0.290155,\n",
              " 'recall': 0.352201,\n",
              " 'f1_score': 0.318182}"
            ]
          },
          "metadata": {},
          "execution_count": 21
        }
      ],
      "source": [
        "# For the basic decision tree model\n",
        "from sklearn.tree import DecisionTreeClassifier, plot_tree\n",
        "tree = DecisionTreeClassifier()\n",
        "\n",
        "# Evaluate the decision tree model\n",
        "report_tree = evaluate_model('Decision Tree',tree,X_train, y_train, X_test, y_test)\n",
        "report_tree"
      ]
    },
    {
      "cell_type": "markdown",
      "metadata": {
        "id": "yQHjvOp7q11L"
      },
      "source": [
        "We tried to improve the accuracy by tuning the hyper parameters `max_depth` and `max_features` with different methods:\n",
        "- first the grid search with cross-validation returned `max_depth`: 13, `max_features`: 'auto' \n",
        "- then, the maximum depth of the tree returned `max_depth`: 95, `max_features`: 'auto'"
      ]
    },
    {
      "cell_type": "code",
      "execution_count": null,
      "metadata": {
        "colab": {
          "base_uri": "https://localhost:8080/"
        },
        "id": "tuJutkbyzCh8",
        "outputId": "5d136fc8-f089-49e7-c8ad-069e1cde453f"
      },
      "outputs": [
        {
          "output_type": "stream",
          "name": "stdout",
          "text": [
            "{'max_depth': 13, 'max_features': 'auto'}\n"
          ]
        }
      ],
      "source": [
        "# Using grid search and cross-validation:\n",
        "param_grid = {\n",
        "    'max_depth': [3, 5, 7, 9, 11, 13],\n",
        "    'max_features': ['auto', 'log2']\n",
        "}\n",
        "\n",
        "grid_search = GridSearchCV(tree, param_grid, cv=5, scoring='accuracy')\n",
        "grid_search.fit(X_vectorised, y_int)\n",
        "\n",
        "print(grid_search.best_params_)"
      ]
    },
    {
      "cell_type": "code",
      "execution_count": null,
      "metadata": {
        "colab": {
          "base_uri": "https://localhost:8080/"
        },
        "id": "o2B_cZAjz3J6",
        "outputId": "c984f354-ac25-4256-cd78-4a5486b229ca"
      },
      "outputs": [
        {
          "output_type": "execute_result",
          "data": {
            "text/plain": [
              "{'model': 'Decision Tree Search CV',\n",
              " 'accuracy': 0.220833,\n",
              " 'precision': 0.416667,\n",
              " 'recall': 0.125786,\n",
              " 'f1_score': 0.193237}"
            ]
          },
          "metadata": {},
          "execution_count": 23
        }
      ],
      "source": [
        "# Evaluate with the grid search parameters\n",
        "tree_parameters_grid = DecisionTreeClassifier(max_depth=13, max_features='auto')\n",
        "\n",
        "report_tree_grid_CV = evaluate_model('Decision Tree Search CV', tree_parameters_grid,X_train, y_train, X_test, y_test)\n",
        "report_tree_grid_CV"
      ]
    },
    {
      "cell_type": "code",
      "execution_count": null,
      "metadata": {
        "colab": {
          "base_uri": "https://localhost:8080/"
        },
        "id": "f2RhLcYr6I46",
        "outputId": "81abc59e-ce60-485a-da22-a51d5fdbf6dc"
      },
      "outputs": [
        {
          "output_type": "stream",
          "name": "stdout",
          "text": [
            "the function returns maximum depth of: 95\n"
          ]
        }
      ],
      "source": [
        "# Find the max_depth parameter \n",
        "tree_depth = tree.get_depth()\n",
        "print(\"the function returns maximum depth of:\", tree_depth)"
      ]
    },
    {
      "cell_type": "code",
      "execution_count": null,
      "metadata": {
        "colab": {
          "base_uri": "https://localhost:8080/"
        },
        "id": "L2lOghmR_A8o",
        "outputId": "7b07c83b-9cac-4657-c40b-23dc6c087cd4"
      },
      "outputs": [
        {
          "output_type": "execute_result",
          "data": {
            "text/plain": [
              "{'model': 'Decision Tree Max Depth',\n",
              " 'accuracy': 0.301042,\n",
              " 'precision': 0.27,\n",
              " 'recall': 0.339623,\n",
              " 'f1_score': 0.300836}"
            ]
          },
          "metadata": {},
          "execution_count": 25
        }
      ],
      "source": [
        "# Tying this method:\n",
        "tree_max_depth = DecisionTreeClassifier(max_depth=tree_depth)\n",
        "\n",
        "report_tree_max_depth = evaluate_model('Decision Tree Max Depth',tree_max_depth,X_train, y_train, X_test, y_test)\n",
        "report_tree_max_depth"
      ]
    },
    {
      "cell_type": "markdown",
      "source": [
        "### Conclusion of the Decision Tree model\n",
        "\n",
        "Below is a table of the different accuracies given by the methods we tried, it is sorted from best to worse results. \n",
        "\n",
        "We can see that this model does not perform well with our dataset, the accuracies are low, and not robust, they vary too much each time we evaluated the model, and we can easily overfit the model when the maximum depth parameter gets too high."
      ],
      "metadata": {
        "id": "L5WLCrt99sty"
      }
    },
    {
      "cell_type": "code",
      "source": [
        "results_tree = pd.DataFrame([report_tree,\n",
        "                            report_tree_grid_CV,\n",
        "                            report_tree_max_depth])\n",
        "results_tree.sort_values(by='accuracy', ascending=False)"
      ],
      "metadata": {
        "colab": {
          "base_uri": "https://localhost:8080/",
          "height": 143
        },
        "id": "WksvmDck-kqy",
        "outputId": "a51f4097-929b-425e-b492-c42750bd90dc"
      },
      "execution_count": null,
      "outputs": [
        {
          "output_type": "execute_result",
          "data": {
            "text/plain": [
              "                     model  accuracy  precision    recall  f1_score\n",
              "0            Decision Tree  0.302083   0.290155  0.352201  0.318182\n",
              "2  Decision Tree Max Depth  0.301042   0.270000  0.339623  0.300836\n",
              "1  Decision Tree Search CV  0.220833   0.416667  0.125786  0.193237"
            ],
            "text/html": [
              "\n",
              "  <div id=\"df-3abc5050-a0e4-4d29-b6b4-4e1f5ea6262e\">\n",
              "    <div class=\"colab-df-container\">\n",
              "      <div>\n",
              "<style scoped>\n",
              "    .dataframe tbody tr th:only-of-type {\n",
              "        vertical-align: middle;\n",
              "    }\n",
              "\n",
              "    .dataframe tbody tr th {\n",
              "        vertical-align: top;\n",
              "    }\n",
              "\n",
              "    .dataframe thead th {\n",
              "        text-align: right;\n",
              "    }\n",
              "</style>\n",
              "<table border=\"1\" class=\"dataframe\">\n",
              "  <thead>\n",
              "    <tr style=\"text-align: right;\">\n",
              "      <th></th>\n",
              "      <th>model</th>\n",
              "      <th>accuracy</th>\n",
              "      <th>precision</th>\n",
              "      <th>recall</th>\n",
              "      <th>f1_score</th>\n",
              "    </tr>\n",
              "  </thead>\n",
              "  <tbody>\n",
              "    <tr>\n",
              "      <th>0</th>\n",
              "      <td>Decision Tree</td>\n",
              "      <td>0.302083</td>\n",
              "      <td>0.290155</td>\n",
              "      <td>0.352201</td>\n",
              "      <td>0.318182</td>\n",
              "    </tr>\n",
              "    <tr>\n",
              "      <th>2</th>\n",
              "      <td>Decision Tree Max Depth</td>\n",
              "      <td>0.301042</td>\n",
              "      <td>0.270000</td>\n",
              "      <td>0.339623</td>\n",
              "      <td>0.300836</td>\n",
              "    </tr>\n",
              "    <tr>\n",
              "      <th>1</th>\n",
              "      <td>Decision Tree Search CV</td>\n",
              "      <td>0.220833</td>\n",
              "      <td>0.416667</td>\n",
              "      <td>0.125786</td>\n",
              "      <td>0.193237</td>\n",
              "    </tr>\n",
              "  </tbody>\n",
              "</table>\n",
              "</div>\n",
              "      <button class=\"colab-df-convert\" onclick=\"convertToInteractive('df-3abc5050-a0e4-4d29-b6b4-4e1f5ea6262e')\"\n",
              "              title=\"Convert this dataframe to an interactive table.\"\n",
              "              style=\"display:none;\">\n",
              "        \n",
              "  <svg xmlns=\"http://www.w3.org/2000/svg\" height=\"24px\"viewBox=\"0 0 24 24\"\n",
              "       width=\"24px\">\n",
              "    <path d=\"M0 0h24v24H0V0z\" fill=\"none\"/>\n",
              "    <path d=\"M18.56 5.44l.94 2.06.94-2.06 2.06-.94-2.06-.94-.94-2.06-.94 2.06-2.06.94zm-11 1L8.5 8.5l.94-2.06 2.06-.94-2.06-.94L8.5 2.5l-.94 2.06-2.06.94zm10 10l.94 2.06.94-2.06 2.06-.94-2.06-.94-.94-2.06-.94 2.06-2.06.94z\"/><path d=\"M17.41 7.96l-1.37-1.37c-.4-.4-.92-.59-1.43-.59-.52 0-1.04.2-1.43.59L10.3 9.45l-7.72 7.72c-.78.78-.78 2.05 0 2.83L4 21.41c.39.39.9.59 1.41.59.51 0 1.02-.2 1.41-.59l7.78-7.78 2.81-2.81c.8-.78.8-2.07 0-2.86zM5.41 20L4 18.59l7.72-7.72 1.47 1.35L5.41 20z\"/>\n",
              "  </svg>\n",
              "      </button>\n",
              "      \n",
              "  <style>\n",
              "    .colab-df-container {\n",
              "      display:flex;\n",
              "      flex-wrap:wrap;\n",
              "      gap: 12px;\n",
              "    }\n",
              "\n",
              "    .colab-df-convert {\n",
              "      background-color: #E8F0FE;\n",
              "      border: none;\n",
              "      border-radius: 50%;\n",
              "      cursor: pointer;\n",
              "      display: none;\n",
              "      fill: #1967D2;\n",
              "      height: 32px;\n",
              "      padding: 0 0 0 0;\n",
              "      width: 32px;\n",
              "    }\n",
              "\n",
              "    .colab-df-convert:hover {\n",
              "      background-color: #E2EBFA;\n",
              "      box-shadow: 0px 1px 2px rgba(60, 64, 67, 0.3), 0px 1px 3px 1px rgba(60, 64, 67, 0.15);\n",
              "      fill: #174EA6;\n",
              "    }\n",
              "\n",
              "    [theme=dark] .colab-df-convert {\n",
              "      background-color: #3B4455;\n",
              "      fill: #D2E3FC;\n",
              "    }\n",
              "\n",
              "    [theme=dark] .colab-df-convert:hover {\n",
              "      background-color: #434B5C;\n",
              "      box-shadow: 0px 1px 3px 1px rgba(0, 0, 0, 0.15);\n",
              "      filter: drop-shadow(0px 1px 2px rgba(0, 0, 0, 0.3));\n",
              "      fill: #FFFFFF;\n",
              "    }\n",
              "  </style>\n",
              "\n",
              "      <script>\n",
              "        const buttonEl =\n",
              "          document.querySelector('#df-3abc5050-a0e4-4d29-b6b4-4e1f5ea6262e button.colab-df-convert');\n",
              "        buttonEl.style.display =\n",
              "          google.colab.kernel.accessAllowed ? 'block' : 'none';\n",
              "\n",
              "        async function convertToInteractive(key) {\n",
              "          const element = document.querySelector('#df-3abc5050-a0e4-4d29-b6b4-4e1f5ea6262e');\n",
              "          const dataTable =\n",
              "            await google.colab.kernel.invokeFunction('convertToInteractive',\n",
              "                                                     [key], {});\n",
              "          if (!dataTable) return;\n",
              "\n",
              "          const docLinkHtml = 'Like what you see? Visit the ' +\n",
              "            '<a target=\"_blank\" href=https://colab.research.google.com/notebooks/data_table.ipynb>data table notebook</a>'\n",
              "            + ' to learn more about interactive tables.';\n",
              "          element.innerHTML = '';\n",
              "          dataTable['output_type'] = 'display_data';\n",
              "          await google.colab.output.renderOutput(dataTable, element);\n",
              "          const docLink = document.createElement('div');\n",
              "          docLink.innerHTML = docLinkHtml;\n",
              "          element.appendChild(docLink);\n",
              "        }\n",
              "      </script>\n",
              "    </div>\n",
              "  </div>\n",
              "  "
            ]
          },
          "metadata": {},
          "execution_count": 26
        }
      ]
    },
    {
      "cell_type": "markdown",
      "metadata": {
        "id": "M52Ys3hcq7ku"
      },
      "source": [
        "### 2.4. Random Forest Classifier\n",
        "We tested the random forest classifier."
      ]
    },
    {
      "cell_type": "code",
      "execution_count": null,
      "metadata": {
        "colab": {
          "base_uri": "https://localhost:8080/"
        },
        "id": "sssF4NIGrNLa",
        "outputId": "061ac583-f0ea-48bc-bc1d-7f99ac4e4c10"
      },
      "outputs": [
        {
          "output_type": "execute_result",
          "data": {
            "text/plain": [
              "{'model': 'Random Forest',\n",
              " 'accuracy': 0.397917,\n",
              " 'precision': 0.366013,\n",
              " 'recall': 0.352201,\n",
              " 'f1_score': 0.358974}"
            ]
          },
          "metadata": {},
          "execution_count": 27
        }
      ],
      "source": [
        "# For the basic random forest classifier\n",
        "from sklearn.ensemble import RandomForestClassifier\n",
        "forest = RandomForestClassifier()\n",
        "\n",
        "# Evaluate the random forest classifier\n",
        "report_forest = evaluate_model('Random Forest', forest,X_train,y_train,X_test,y_test)\n",
        "report_forest"
      ]
    },
    {
      "cell_type": "markdown",
      "metadata": {
        "id": "WmFcc-pd57XL"
      },
      "source": [
        "We tried to improve the accuracy by tuning the hyper parameters `n_estimators`, `max_depth` and `max_features` with one method:\n",
        "- the grid search with cross-validation returned `max_depth`: 13, `max_features`: 'auto', `n_estimators`: 200"
      ]
    },
    {
      "cell_type": "code",
      "execution_count": null,
      "metadata": {
        "colab": {
          "base_uri": "https://localhost:8080/"
        },
        "id": "wXq5NeRI6AnT",
        "outputId": "9d10c129-47ca-46d9-b03a-6cd1f9358e0f"
      },
      "outputs": [
        {
          "output_type": "stream",
          "name": "stdout",
          "text": [
            "{'max_depth': 13, 'max_features': 'auto', 'n_estimators': 200}\n"
          ]
        }
      ],
      "source": [
        "# Using the grid search\n",
        "param_grid = {\n",
        "    'n_estimators': [10, 50, 100, 200],\n",
        "    'max_depth': [3, 5, 7, 9, 11, 13],\n",
        "    'max_features': ['auto', 'log2']\n",
        "}\n",
        "\n",
        "grid_search = GridSearchCV(forest, param_grid, cv=5, scoring='accuracy')\n",
        "grid_search.fit(X_vectorised, y_int)\n",
        "\n",
        "print(grid_search.best_params_)"
      ]
    },
    {
      "cell_type": "code",
      "execution_count": null,
      "metadata": {
        "colab": {
          "base_uri": "https://localhost:8080/"
        },
        "id": "0ub_UbQK6HAb",
        "outputId": "c8153966-1623-4b5a-a02d-e266fbf02565"
      },
      "outputs": [
        {
          "output_type": "execute_result",
          "data": {
            "text/plain": [
              "{'model': 'Random Forest Search CV',\n",
              " 'accuracy': 0.36875,\n",
              " 'precision': 0.394737,\n",
              " 'recall': 0.283019,\n",
              " 'f1_score': 0.32967}"
            ]
          },
          "metadata": {},
          "execution_count": 29
        }
      ],
      "source": [
        "# Evaluate with the parameters\n",
        "forest_parameters = RandomForestClassifier(n_estimators=200,max_depth=13,max_features='auto')\n",
        "\n",
        "report_forest_search_CV = evaluate_model('Random Forest Search CV',forest_parameters,X_train,y_train,X_test,y_test)\n",
        "report_forest_search_CV"
      ]
    },
    {
      "cell_type": "markdown",
      "source": [
        "### Conclusion of the Random Forest Classifier\n",
        "\n",
        "Below is a table of the different accuracies given by the methods we tried, it is sorted from best to worse results. We can see that this model is also not performing very well with our classification problem."
      ],
      "metadata": {
        "id": "d9ZluSZ8Eb9N"
      }
    },
    {
      "cell_type": "code",
      "source": [
        "results_forest = pd.DataFrame([report_forest,\n",
        "                            report_forest_search_CV])\n",
        "results_forest.sort_values(by='accuracy', ascending=False)"
      ],
      "metadata": {
        "colab": {
          "base_uri": "https://localhost:8080/",
          "height": 112
        },
        "id": "7dlFyCnHEl_W",
        "outputId": "665850f0-0528-41d5-c23b-1341dd12b26c"
      },
      "execution_count": null,
      "outputs": [
        {
          "output_type": "execute_result",
          "data": {
            "text/plain": [
              "                     model  accuracy  precision    recall  f1_score\n",
              "0            Random Forest  0.397917   0.366013  0.352201  0.358974\n",
              "1  Random Forest Search CV  0.368750   0.394737  0.283019  0.329670"
            ],
            "text/html": [
              "\n",
              "  <div id=\"df-e74ed2ca-34ed-460c-af96-9a74cabe0bbf\">\n",
              "    <div class=\"colab-df-container\">\n",
              "      <div>\n",
              "<style scoped>\n",
              "    .dataframe tbody tr th:only-of-type {\n",
              "        vertical-align: middle;\n",
              "    }\n",
              "\n",
              "    .dataframe tbody tr th {\n",
              "        vertical-align: top;\n",
              "    }\n",
              "\n",
              "    .dataframe thead th {\n",
              "        text-align: right;\n",
              "    }\n",
              "</style>\n",
              "<table border=\"1\" class=\"dataframe\">\n",
              "  <thead>\n",
              "    <tr style=\"text-align: right;\">\n",
              "      <th></th>\n",
              "      <th>model</th>\n",
              "      <th>accuracy</th>\n",
              "      <th>precision</th>\n",
              "      <th>recall</th>\n",
              "      <th>f1_score</th>\n",
              "    </tr>\n",
              "  </thead>\n",
              "  <tbody>\n",
              "    <tr>\n",
              "      <th>0</th>\n",
              "      <td>Random Forest</td>\n",
              "      <td>0.397917</td>\n",
              "      <td>0.366013</td>\n",
              "      <td>0.352201</td>\n",
              "      <td>0.358974</td>\n",
              "    </tr>\n",
              "    <tr>\n",
              "      <th>1</th>\n",
              "      <td>Random Forest Search CV</td>\n",
              "      <td>0.368750</td>\n",
              "      <td>0.394737</td>\n",
              "      <td>0.283019</td>\n",
              "      <td>0.329670</td>\n",
              "    </tr>\n",
              "  </tbody>\n",
              "</table>\n",
              "</div>\n",
              "      <button class=\"colab-df-convert\" onclick=\"convertToInteractive('df-e74ed2ca-34ed-460c-af96-9a74cabe0bbf')\"\n",
              "              title=\"Convert this dataframe to an interactive table.\"\n",
              "              style=\"display:none;\">\n",
              "        \n",
              "  <svg xmlns=\"http://www.w3.org/2000/svg\" height=\"24px\"viewBox=\"0 0 24 24\"\n",
              "       width=\"24px\">\n",
              "    <path d=\"M0 0h24v24H0V0z\" fill=\"none\"/>\n",
              "    <path d=\"M18.56 5.44l.94 2.06.94-2.06 2.06-.94-2.06-.94-.94-2.06-.94 2.06-2.06.94zm-11 1L8.5 8.5l.94-2.06 2.06-.94-2.06-.94L8.5 2.5l-.94 2.06-2.06.94zm10 10l.94 2.06.94-2.06 2.06-.94-2.06-.94-.94-2.06-.94 2.06-2.06.94z\"/><path d=\"M17.41 7.96l-1.37-1.37c-.4-.4-.92-.59-1.43-.59-.52 0-1.04.2-1.43.59L10.3 9.45l-7.72 7.72c-.78.78-.78 2.05 0 2.83L4 21.41c.39.39.9.59 1.41.59.51 0 1.02-.2 1.41-.59l7.78-7.78 2.81-2.81c.8-.78.8-2.07 0-2.86zM5.41 20L4 18.59l7.72-7.72 1.47 1.35L5.41 20z\"/>\n",
              "  </svg>\n",
              "      </button>\n",
              "      \n",
              "  <style>\n",
              "    .colab-df-container {\n",
              "      display:flex;\n",
              "      flex-wrap:wrap;\n",
              "      gap: 12px;\n",
              "    }\n",
              "\n",
              "    .colab-df-convert {\n",
              "      background-color: #E8F0FE;\n",
              "      border: none;\n",
              "      border-radius: 50%;\n",
              "      cursor: pointer;\n",
              "      display: none;\n",
              "      fill: #1967D2;\n",
              "      height: 32px;\n",
              "      padding: 0 0 0 0;\n",
              "      width: 32px;\n",
              "    }\n",
              "\n",
              "    .colab-df-convert:hover {\n",
              "      background-color: #E2EBFA;\n",
              "      box-shadow: 0px 1px 2px rgba(60, 64, 67, 0.3), 0px 1px 3px 1px rgba(60, 64, 67, 0.15);\n",
              "      fill: #174EA6;\n",
              "    }\n",
              "\n",
              "    [theme=dark] .colab-df-convert {\n",
              "      background-color: #3B4455;\n",
              "      fill: #D2E3FC;\n",
              "    }\n",
              "\n",
              "    [theme=dark] .colab-df-convert:hover {\n",
              "      background-color: #434B5C;\n",
              "      box-shadow: 0px 1px 3px 1px rgba(0, 0, 0, 0.15);\n",
              "      filter: drop-shadow(0px 1px 2px rgba(0, 0, 0, 0.3));\n",
              "      fill: #FFFFFF;\n",
              "    }\n",
              "  </style>\n",
              "\n",
              "      <script>\n",
              "        const buttonEl =\n",
              "          document.querySelector('#df-e74ed2ca-34ed-460c-af96-9a74cabe0bbf button.colab-df-convert');\n",
              "        buttonEl.style.display =\n",
              "          google.colab.kernel.accessAllowed ? 'block' : 'none';\n",
              "\n",
              "        async function convertToInteractive(key) {\n",
              "          const element = document.querySelector('#df-e74ed2ca-34ed-460c-af96-9a74cabe0bbf');\n",
              "          const dataTable =\n",
              "            await google.colab.kernel.invokeFunction('convertToInteractive',\n",
              "                                                     [key], {});\n",
              "          if (!dataTable) return;\n",
              "\n",
              "          const docLinkHtml = 'Like what you see? Visit the ' +\n",
              "            '<a target=\"_blank\" href=https://colab.research.google.com/notebooks/data_table.ipynb>data table notebook</a>'\n",
              "            + ' to learn more about interactive tables.';\n",
              "          element.innerHTML = '';\n",
              "          dataTable['output_type'] = 'display_data';\n",
              "          await google.colab.output.renderOutput(dataTable, element);\n",
              "          const docLink = document.createElement('div');\n",
              "          docLink.innerHTML = docLinkHtml;\n",
              "          element.appendChild(docLink);\n",
              "        }\n",
              "      </script>\n",
              "    </div>\n",
              "  </div>\n",
              "  "
            ]
          },
          "metadata": {},
          "execution_count": 30
        }
      ]
    },
    {
      "cell_type": "markdown",
      "metadata": {
        "id": "z-8_3MK1rpZr"
      },
      "source": [
        "### 3.1 Data cleaning\n",
        "\n",
        "In section 3, we want to try others methods that may also include data cleaning on our classification problem. We will then proceed to compare how well the different methods performed and which one gave us the best accuracy result."
      ]
    },
    {
      "cell_type": "markdown",
      "source": [
        "Below is a table showing the accuracies obtained with the different methods and models that we tried. It is sorted from best to worse accuracy.\n",
        "\n",
        "We can see that the best results are obtained with the basic logistic regression model, therefore we will use this model for the rest of this project, and try to improve the accuracy. "
      ],
      "metadata": {
        "id": "cFzTMCp1MJ2y"
      }
    },
    {
      "cell_type": "code",
      "source": [
        "# Create the summary dataframe and sort from better accuracy to worse\n",
        "results_no_data_cleaning = pd.DataFrame([report_logistic, \n",
        "                                         report_knn,\n",
        "                                         report_knn_grid_CV,\n",
        "                                         report_knn_random_CV,\n",
        "                                         report_knn_trial_and_errors,\n",
        "                                         report_tree,\n",
        "                                         report_tree_grid_CV,\n",
        "                                         report_tree_max_depth,\n",
        "                                         report_forest,\n",
        "                                         report_forest_search_CV])\n",
        "results_no_data_cleaning.sort_values(by='accuracy', ascending=False)"
      ],
      "metadata": {
        "colab": {
          "base_uri": "https://localhost:8080/",
          "height": 363
        },
        "id": "wSaWRr2GMaBS",
        "outputId": "201af8ef-8a01-4a6c-8834-97fa094e6e0f"
      },
      "execution_count": null,
      "outputs": [
        {
          "output_type": "execute_result",
          "data": {
            "text/plain": [
              "                     model  accuracy  precision    recall  f1_score\n",
              "0      Logistic Regression  0.460417   0.451389  0.408805  0.429043\n",
              "8            Random Forest  0.397917   0.366013  0.352201  0.358974\n",
              "4      KNN Trials & Errors  0.372917   0.298643  0.415094  0.347368\n",
              "9  Random Forest Search CV  0.368750   0.394737  0.283019  0.329670\n",
              "2       KNN Grid Search CV  0.361458   0.306220  0.402516  0.347826\n",
              "3     KNN Random Search CV  0.351042   0.278539  0.383648  0.322751\n",
              "1      K-Nearest Neighbour  0.315625   0.264840  0.364780  0.306878\n",
              "5            Decision Tree  0.302083   0.290155  0.352201  0.318182\n",
              "7  Decision Tree Max Depth  0.301042   0.270000  0.339623  0.300836\n",
              "6  Decision Tree Search CV  0.220833   0.416667  0.125786  0.193237"
            ],
            "text/html": [
              "\n",
              "  <div id=\"df-c0af88f2-641d-403f-85a2-8405be37cf94\">\n",
              "    <div class=\"colab-df-container\">\n",
              "      <div>\n",
              "<style scoped>\n",
              "    .dataframe tbody tr th:only-of-type {\n",
              "        vertical-align: middle;\n",
              "    }\n",
              "\n",
              "    .dataframe tbody tr th {\n",
              "        vertical-align: top;\n",
              "    }\n",
              "\n",
              "    .dataframe thead th {\n",
              "        text-align: right;\n",
              "    }\n",
              "</style>\n",
              "<table border=\"1\" class=\"dataframe\">\n",
              "  <thead>\n",
              "    <tr style=\"text-align: right;\">\n",
              "      <th></th>\n",
              "      <th>model</th>\n",
              "      <th>accuracy</th>\n",
              "      <th>precision</th>\n",
              "      <th>recall</th>\n",
              "      <th>f1_score</th>\n",
              "    </tr>\n",
              "  </thead>\n",
              "  <tbody>\n",
              "    <tr>\n",
              "      <th>0</th>\n",
              "      <td>Logistic Regression</td>\n",
              "      <td>0.460417</td>\n",
              "      <td>0.451389</td>\n",
              "      <td>0.408805</td>\n",
              "      <td>0.429043</td>\n",
              "    </tr>\n",
              "    <tr>\n",
              "      <th>8</th>\n",
              "      <td>Random Forest</td>\n",
              "      <td>0.397917</td>\n",
              "      <td>0.366013</td>\n",
              "      <td>0.352201</td>\n",
              "      <td>0.358974</td>\n",
              "    </tr>\n",
              "    <tr>\n",
              "      <th>4</th>\n",
              "      <td>KNN Trials &amp; Errors</td>\n",
              "      <td>0.372917</td>\n",
              "      <td>0.298643</td>\n",
              "      <td>0.415094</td>\n",
              "      <td>0.347368</td>\n",
              "    </tr>\n",
              "    <tr>\n",
              "      <th>9</th>\n",
              "      <td>Random Forest Search CV</td>\n",
              "      <td>0.368750</td>\n",
              "      <td>0.394737</td>\n",
              "      <td>0.283019</td>\n",
              "      <td>0.329670</td>\n",
              "    </tr>\n",
              "    <tr>\n",
              "      <th>2</th>\n",
              "      <td>KNN Grid Search CV</td>\n",
              "      <td>0.361458</td>\n",
              "      <td>0.306220</td>\n",
              "      <td>0.402516</td>\n",
              "      <td>0.347826</td>\n",
              "    </tr>\n",
              "    <tr>\n",
              "      <th>3</th>\n",
              "      <td>KNN Random Search CV</td>\n",
              "      <td>0.351042</td>\n",
              "      <td>0.278539</td>\n",
              "      <td>0.383648</td>\n",
              "      <td>0.322751</td>\n",
              "    </tr>\n",
              "    <tr>\n",
              "      <th>1</th>\n",
              "      <td>K-Nearest Neighbour</td>\n",
              "      <td>0.315625</td>\n",
              "      <td>0.264840</td>\n",
              "      <td>0.364780</td>\n",
              "      <td>0.306878</td>\n",
              "    </tr>\n",
              "    <tr>\n",
              "      <th>5</th>\n",
              "      <td>Decision Tree</td>\n",
              "      <td>0.302083</td>\n",
              "      <td>0.290155</td>\n",
              "      <td>0.352201</td>\n",
              "      <td>0.318182</td>\n",
              "    </tr>\n",
              "    <tr>\n",
              "      <th>7</th>\n",
              "      <td>Decision Tree Max Depth</td>\n",
              "      <td>0.301042</td>\n",
              "      <td>0.270000</td>\n",
              "      <td>0.339623</td>\n",
              "      <td>0.300836</td>\n",
              "    </tr>\n",
              "    <tr>\n",
              "      <th>6</th>\n",
              "      <td>Decision Tree Search CV</td>\n",
              "      <td>0.220833</td>\n",
              "      <td>0.416667</td>\n",
              "      <td>0.125786</td>\n",
              "      <td>0.193237</td>\n",
              "    </tr>\n",
              "  </tbody>\n",
              "</table>\n",
              "</div>\n",
              "      <button class=\"colab-df-convert\" onclick=\"convertToInteractive('df-c0af88f2-641d-403f-85a2-8405be37cf94')\"\n",
              "              title=\"Convert this dataframe to an interactive table.\"\n",
              "              style=\"display:none;\">\n",
              "        \n",
              "  <svg xmlns=\"http://www.w3.org/2000/svg\" height=\"24px\"viewBox=\"0 0 24 24\"\n",
              "       width=\"24px\">\n",
              "    <path d=\"M0 0h24v24H0V0z\" fill=\"none\"/>\n",
              "    <path d=\"M18.56 5.44l.94 2.06.94-2.06 2.06-.94-2.06-.94-.94-2.06-.94 2.06-2.06.94zm-11 1L8.5 8.5l.94-2.06 2.06-.94-2.06-.94L8.5 2.5l-.94 2.06-2.06.94zm10 10l.94 2.06.94-2.06 2.06-.94-2.06-.94-.94-2.06-.94 2.06-2.06.94z\"/><path d=\"M17.41 7.96l-1.37-1.37c-.4-.4-.92-.59-1.43-.59-.52 0-1.04.2-1.43.59L10.3 9.45l-7.72 7.72c-.78.78-.78 2.05 0 2.83L4 21.41c.39.39.9.59 1.41.59.51 0 1.02-.2 1.41-.59l7.78-7.78 2.81-2.81c.8-.78.8-2.07 0-2.86zM5.41 20L4 18.59l7.72-7.72 1.47 1.35L5.41 20z\"/>\n",
              "  </svg>\n",
              "      </button>\n",
              "      \n",
              "  <style>\n",
              "    .colab-df-container {\n",
              "      display:flex;\n",
              "      flex-wrap:wrap;\n",
              "      gap: 12px;\n",
              "    }\n",
              "\n",
              "    .colab-df-convert {\n",
              "      background-color: #E8F0FE;\n",
              "      border: none;\n",
              "      border-radius: 50%;\n",
              "      cursor: pointer;\n",
              "      display: none;\n",
              "      fill: #1967D2;\n",
              "      height: 32px;\n",
              "      padding: 0 0 0 0;\n",
              "      width: 32px;\n",
              "    }\n",
              "\n",
              "    .colab-df-convert:hover {\n",
              "      background-color: #E2EBFA;\n",
              "      box-shadow: 0px 1px 2px rgba(60, 64, 67, 0.3), 0px 1px 3px 1px rgba(60, 64, 67, 0.15);\n",
              "      fill: #174EA6;\n",
              "    }\n",
              "\n",
              "    [theme=dark] .colab-df-convert {\n",
              "      background-color: #3B4455;\n",
              "      fill: #D2E3FC;\n",
              "    }\n",
              "\n",
              "    [theme=dark] .colab-df-convert:hover {\n",
              "      background-color: #434B5C;\n",
              "      box-shadow: 0px 1px 3px 1px rgba(0, 0, 0, 0.15);\n",
              "      filter: drop-shadow(0px 1px 2px rgba(0, 0, 0, 0.3));\n",
              "      fill: #FFFFFF;\n",
              "    }\n",
              "  </style>\n",
              "\n",
              "      <script>\n",
              "        const buttonEl =\n",
              "          document.querySelector('#df-c0af88f2-641d-403f-85a2-8405be37cf94 button.colab-df-convert');\n",
              "        buttonEl.style.display =\n",
              "          google.colab.kernel.accessAllowed ? 'block' : 'none';\n",
              "\n",
              "        async function convertToInteractive(key) {\n",
              "          const element = document.querySelector('#df-c0af88f2-641d-403f-85a2-8405be37cf94');\n",
              "          const dataTable =\n",
              "            await google.colab.kernel.invokeFunction('convertToInteractive',\n",
              "                                                     [key], {});\n",
              "          if (!dataTable) return;\n",
              "\n",
              "          const docLinkHtml = 'Like what you see? Visit the ' +\n",
              "            '<a target=\"_blank\" href=https://colab.research.google.com/notebooks/data_table.ipynb>data table notebook</a>'\n",
              "            + ' to learn more about interactive tables.';\n",
              "          element.innerHTML = '';\n",
              "          dataTable['output_type'] = 'display_data';\n",
              "          await google.colab.output.renderOutput(dataTable, element);\n",
              "          const docLink = document.createElement('div');\n",
              "          docLink.innerHTML = docLinkHtml;\n",
              "          element.appendChild(docLink);\n",
              "        }\n",
              "      </script>\n",
              "    </div>\n",
              "  </div>\n",
              "  "
            ]
          },
          "metadata": {},
          "execution_count": 31
        }
      ]
    },
    {
      "cell_type": "markdown",
      "source": [
        "##### 3.1.1 Tokennised data\n",
        "\n",
        "The first method we tried is to clean the data by using: \n",
        "- a tfidf vectoriser\n",
        "- the spacy to remove french stop words from our data\n",
        "- lemmatize our data\n",
        "- and have every sentence with only lower case"
      ],
      "metadata": {
        "id": "meyIx3oOT2K0"
      }
    },
    {
      "cell_type": "code",
      "execution_count": null,
      "metadata": {
        "id": "JU6j6fBhGjX3"
      },
      "outputs": [],
      "source": [
        "# Store a copy of our data\n",
        "X_vectorised = X.copy()\n",
        "X_vectorised = tfidf_vector.fit_transform(X_vectorised)\n",
        "y_int = y.astype('int')"
      ]
    },
    {
      "cell_type": "code",
      "execution_count": null,
      "metadata": {
        "id": "XMm42j6c-4Rr"
      },
      "outputs": [],
      "source": [
        "# Using Data Cleaning methods\n",
        "import string\n",
        "from spacy.lang.fr.stop_words import STOP_WORDS\n",
        "\n",
        "spacy_stopwords = spacy.lang.fr.stop_words.STOP_WORDS\n",
        "\n",
        "sp = spacy.load('fr_core_news_sm')\n",
        "punctuations = string.punctuation\n",
        "\n",
        "def spacy_tokenizer(sentence):\n",
        "    # Create token object\n",
        "    mytokens = sp(sentence)\n",
        "\n",
        "    # Lemmatize each token and convert each token into lowercase\n",
        "    mytokens = [ word.lemma_.lower().strip() for word in mytokens ]\n",
        "    \n",
        "    # Remove stop words and punctuation\n",
        "    mytokens = [ word for word in mytokens if word not in punctuations ]\n",
        "\n",
        "    # Return preprocessed list of tokens\n",
        "    return mytokens"
      ]
    },
    {
      "cell_type": "code",
      "execution_count": null,
      "metadata": {
        "id": "NgG5zxtaYHAo"
      },
      "outputs": [],
      "source": [
        "# Build the same function as before, but for tokenised data\n",
        "\n",
        "def evaluate_model_token(name, classifier, vectorizer, X_train, y_train, X_test, y_test):\n",
        "  \"\"\"\n",
        "  This function evaluates a classification model with a tokenniser and returns the most important metrics: the model accuracy, precision, recall and F1 scores.\n",
        "  To use it, enter a name for your model (str), the classifier used, the tokenniser used, and then the features of the testing and training set.\n",
        "  \"\"\"\n",
        "\n",
        "  pipe_tokenised = Pipeline([('vectorizer', vectorizer),\n",
        "                               ('classifier', classifier)])\n",
        "  pipe_tokenised.fit(X_train, y_train)\n",
        "  y_pred_tokenised = pipe_tokenised.predict(X_test)\n",
        "  report = classification_report(y_test, y_pred_tokenised, digits=6, output_dict=True)\n",
        "\n",
        "  results = {\n",
        "      'model': name,\n",
        "      'accuracy': round(report['accuracy'], 6),\n",
        "      'precision': round(report['1']['precision'], 6),\n",
        "      'recall': round(report['1']['recall'], 6),\n",
        "      'f1_score': round(report['1']['f1-score'], 6)}\n",
        "  \n",
        "  return results"
      ]
    },
    {
      "cell_type": "code",
      "execution_count": null,
      "metadata": {
        "id": "-wYl2ykvXl2H",
        "colab": {
          "base_uri": "https://localhost:8080/"
        },
        "outputId": "04c237ec-45d7-4ef7-c6b8-fc75030714fc"
      },
      "outputs": [
        {
          "output_type": "execute_result",
          "data": {
            "text/plain": [
              "{'model': 'Logistic Regression with Data Cleaning',\n",
              " 'accuracy': 0.46875,\n",
              " 'precision': 0.449367,\n",
              " 'recall': 0.446541,\n",
              " 'f1_score': 0.44795}"
            ]
          },
          "metadata": {},
          "execution_count": 35
        }
      ],
      "source": [
        "# For the Logistic Regression with data cleaning\n",
        "vector_token = TfidfVectorizer(tokenizer=spacy_tokenizer)\n",
        "\n",
        "data_cleaning_token = evaluate_model_token('Logistic Regression with Data Cleaning',\n",
        "                                              log_reg,\n",
        "                                              vector_token,\n",
        "                                              X_train,y_train,X_test,y_test)\n",
        "data_cleaning_token"
      ]
    },
    {
      "cell_type": "markdown",
      "source": [
        "We tried to improve the accuracy by tuning the hyper parameters `vectorizer__max_df`, `vectorizer__min_df` and `vectorizer__ngram_range` with one method:\n",
        "- the grid search with cross-validation returned `vectorizer__max_df`: 0.5, `vectorizer__min_df`: 1, `vectorizer__ngram_range`: (1,1)"
      ],
      "metadata": {
        "id": "oP7ZpB_gPuXm"
      }
    },
    {
      "cell_type": "code",
      "execution_count": null,
      "metadata": {
        "id": "woQa0V1qS-Nz",
        "colab": {
          "base_uri": "https://localhost:8080/"
        },
        "outputId": "81864a37-21ca-4c4f-c769-bb17d3523d64"
      },
      "outputs": [
        {
          "output_type": "stream",
          "name": "stdout",
          "text": [
            "{'vectorizer__max_df': 0.5, 'vectorizer__min_df': 1, 'vectorizer__ngram_range': (1, 1)}\n"
          ]
        }
      ],
      "source": [
        "# Improve the accuracy of the Logistic Regression model with Gridsearch \n",
        "param_grid = {\n",
        "    'vectorizer__max_df': [0.5, 0.75, 1.0],\n",
        "    'vectorizer__min_df': [1, 2, 3],\n",
        "    'vectorizer__ngram_range': [(1,1), (1,2), (1,3)],\n",
        "}\n",
        "\n",
        "# Create a GridSearchCV object with 5-fold cross-validation\n",
        "grid_search = GridSearchCV(pipe, param_grid, cv=5)\n",
        "\n",
        "# Fit the grid search object to the training data\n",
        "grid_search.fit(X_train, y_train)\n",
        "\n",
        "# Print the best parameters and score\n",
        "print(grid_search.best_params_)"
      ]
    },
    {
      "cell_type": "code",
      "execution_count": null,
      "metadata": {
        "id": "w-A0a09jdPi0",
        "colab": {
          "base_uri": "https://localhost:8080/"
        },
        "outputId": "61f5548c-aea9-4679-a5f8-3d25fa526ed5"
      },
      "outputs": [
        {
          "output_type": "execute_result",
          "data": {
            "text/plain": [
              "{'model': 'Logistic Regression with Data Cleaning & Search CV',\n",
              " 'accuracy': 0.460417,\n",
              " 'precision': 0.448052,\n",
              " 'recall': 0.433962,\n",
              " 'f1_score': 0.440895}"
            ]
          },
          "metadata": {},
          "execution_count": 37
        }
      ],
      "source": [
        "# Using the grid search CV parameters\n",
        "vector_search_CV = TfidfVectorizer(tokenizer=spacy_tokenizer, max_df=0.5, min_df=1, ngram_range=(1,1))\n",
        "\n",
        "data_cleaning_search_CV = evaluate_model_token('Logistic Regression with Data Cleaning & Search CV',\n",
        "                                                        log_reg,\n",
        "                                                        vector_search_CV,\n",
        "                                                        X_train,y_train,X_test,y_test)\n",
        "data_cleaning_search_CV"
      ]
    },
    {
      "cell_type": "markdown",
      "metadata": {
        "id": "o_QThHE2Od5g"
      },
      "source": [
        "##### 3.1.2 One-vs-the-rest (OvR) multiclass strategy\n",
        "\n",
        "We continue to try improving the accuracies of the Logistic Regression with data cleaning, this time with the OvR multiclass strategy."
      ]
    },
    {
      "cell_type": "code",
      "execution_count": null,
      "metadata": {
        "id": "LIvSFELUJJg1",
        "colab": {
          "base_uri": "https://localhost:8080/"
        },
        "outputId": "7510e8da-53a1-4bf5-8491-5c7655dde674"
      },
      "outputs": [
        {
          "output_type": "stream",
          "name": "stdout",
          "text": [
            "Fitting 2 folds for each of 18 candidates, totalling 36 fits\n"
          ]
        },
        {
          "output_type": "stream",
          "name": "stderr",
          "text": [
            "/usr/local/lib/python3.8/dist-packages/sklearn/model_selection/_validation.py:372: FitFailedWarning: \n",
            "36 fits failed out of a total of 36.\n",
            "The score on these train-test partitions for these parameters will be set to nan.\n",
            "If these failures are not expected, you can try to debug them by setting error_score='raise'.\n",
            "\n",
            "Below are more details about the failures:\n",
            "--------------------------------------------------------------------------------\n",
            "36 fits failed with the following error:\n",
            "Traceback (most recent call last):\n",
            "  File \"/usr/local/lib/python3.8/dist-packages/sklearn/model_selection/_validation.py\", line 680, in _fit_and_score\n",
            "    estimator.fit(X_train, y_train, **fit_params)\n",
            "  File \"/usr/local/lib/python3.8/dist-packages/sklearn/pipeline.py\", line 390, in fit\n",
            "    Xt = self._fit(X, y, **fit_params_steps)\n",
            "  File \"/usr/local/lib/python3.8/dist-packages/sklearn/pipeline.py\", line 348, in _fit\n",
            "    X, fitted_transformer = fit_transform_one_cached(\n",
            "  File \"/usr/local/lib/python3.8/dist-packages/joblib/memory.py\", line 349, in __call__\n",
            "    return self.func(*args, **kwargs)\n",
            "  File \"/usr/local/lib/python3.8/dist-packages/sklearn/pipeline.py\", line 893, in _fit_transform_one\n",
            "    res = transformer.fit_transform(X, y, **fit_params)\n",
            "  File \"/usr/local/lib/python3.8/dist-packages/sklearn/feature_extraction/text.py\", line 2077, in fit_transform\n",
            "    X = super().fit_transform(raw_documents)\n",
            "  File \"/usr/local/lib/python3.8/dist-packages/sklearn/feature_extraction/text.py\", line 1330, in fit_transform\n",
            "    vocabulary, X = self._count_vocab(raw_documents, self.fixed_vocabulary_)\n",
            "  File \"/usr/local/lib/python3.8/dist-packages/sklearn/feature_extraction/text.py\", line 1201, in _count_vocab\n",
            "    for feature in analyze(doc):\n",
            "  File \"/usr/local/lib/python3.8/dist-packages/sklearn/feature_extraction/text.py\", line 115, in _analyze\n",
            "    doc = tokenizer(doc)\n",
            "  File \"<ipython-input-33-d32fdf11a9bf>\", line 12, in spacy_tokenizer\n",
            "  File \"/usr/local/lib/python3.8/dist-packages/spacy/language.py\", line 1031, in __call__\n",
            "    error_handler(name, proc, [doc], e)\n",
            "  File \"/usr/local/lib/python3.8/dist-packages/spacy/util.py\", line 1670, in raise_error\n",
            "    raise e\n",
            "  File \"/usr/local/lib/python3.8/dist-packages/spacy/language.py\", line 1026, in __call__\n",
            "    doc = proc(doc, **component_cfg.get(name, {}))  # type: ignore[call-arg]\n",
            "  File \"spacy/pipeline/trainable_pipe.pyx\", line 56, in spacy.pipeline.trainable_pipe.TrainablePipe.__call__\n",
            "  File \"/usr/local/lib/python3.8/dist-packages/spacy/util.py\", line 1670, in raise_error\n",
            "    raise e\n",
            "  File \"spacy/pipeline/trainable_pipe.pyx\", line 52, in spacy.pipeline.trainable_pipe.TrainablePipe.__call__\n",
            "  File \"/usr/local/lib/python3.8/dist-packages/spacy/pipeline/tok2vec.py\", line 125, in predict\n",
            "    tokvecs = self.model.predict(docs)\n",
            "  File \"/usr/local/lib/python3.8/dist-packages/thinc/model.py\", line 315, in predict\n",
            "    return self._func(self, X, is_train=False)[0]\n",
            "  File \"/usr/local/lib/python3.8/dist-packages/thinc/layers/chain.py\", line 55, in forward\n",
            "    Y, inc_layer_grad = layer(X, is_train=is_train)\n",
            "  File \"/usr/local/lib/python3.8/dist-packages/thinc/model.py\", line 291, in __call__\n",
            "    return self._func(self, X, is_train=is_train)\n",
            "  File \"/usr/local/lib/python3.8/dist-packages/thinc/layers/chain.py\", line 55, in forward\n",
            "    Y, inc_layer_grad = layer(X, is_train=is_train)\n",
            "  File \"/usr/local/lib/python3.8/dist-packages/thinc/model.py\", line 291, in __call__\n",
            "    return self._func(self, X, is_train=is_train)\n",
            "  File \"/usr/local/lib/python3.8/dist-packages/thinc/layers/with_array.py\", line 32, in forward\n",
            "    return cast(Tuple[SeqT, Callable], _ragged_forward(model, Xseq, is_train))\n",
            "  File \"/usr/local/lib/python3.8/dist-packages/thinc/layers/with_array.py\", line 87, in _ragged_forward\n",
            "    Y, get_dX = layer(Xr.dataXd, is_train)\n",
            "  File \"/usr/local/lib/python3.8/dist-packages/thinc/model.py\", line 291, in __call__\n",
            "    return self._func(self, X, is_train=is_train)\n",
            "  File \"/usr/local/lib/python3.8/dist-packages/thinc/layers/concatenate.py\", line 44, in forward\n",
            "    Ys, callbacks = zip(*[layer(X, is_train=is_train) for layer in model.layers])\n",
            "  File \"/usr/local/lib/python3.8/dist-packages/thinc/layers/concatenate.py\", line 44, in <listcomp>\n",
            "    Ys, callbacks = zip(*[layer(X, is_train=is_train) for layer in model.layers])\n",
            "  File \"/usr/local/lib/python3.8/dist-packages/thinc/model.py\", line 291, in __call__\n",
            "    return self._func(self, X, is_train=is_train)\n",
            "  File \"/usr/local/lib/python3.8/dist-packages/thinc/layers/chain.py\", line 55, in forward\n",
            "    Y, inc_layer_grad = layer(X, is_train=is_train)\n",
            "  File \"/usr/local/lib/python3.8/dist-packages/thinc/model.py\", line 291, in __call__\n",
            "    return self._func(self, X, is_train=is_train)\n",
            "  File \"/usr/local/lib/python3.8/dist-packages/thinc/layers/hashembed.py\", line 71, in forward\n",
            "    output = model.ops.gather_add(vectors, keys)\n",
            "  File \"thinc/backends/numpy_ops.pyx\", line 440, in thinc.backends.numpy_ops.NumpyOps.gather_add\n",
            "  File \"stringsource\", line 660, in View.MemoryView.memoryview_cwrapper\n",
            "  File \"stringsource\", line 350, in View.MemoryView.memoryview.__cinit__\n",
            "ValueError: buffer source array is read-only\n",
            "\n",
            "  warnings.warn(some_fits_failed_message, FitFailedWarning)\n",
            "/usr/local/lib/python3.8/dist-packages/sklearn/model_selection/_search.py:969: UserWarning: One or more of the test scores are non-finite: [nan nan nan nan nan nan nan nan nan nan nan nan nan nan nan nan nan nan]\n",
            "  warnings.warn(\n",
            "/usr/local/lib/python3.8/dist-packages/sklearn/feature_extraction/text.py:396: UserWarning: Your stop_words may be inconsistent with your preprocessing. Tokenizing the stop words generated tokens ['-là', 'aller', 'apre', 'attendre', 'aupre', 'avai', 'c', 'cinquant', 'concerner', 'd', 'desormer', 'desquel', 'desquelle', 'dever', 'devoir', 'differer', 'egalemer', 'eter', 'exactemer', 'fai', 'faire', 'j', 'l', 'm', 'mill', 'moindre', 'n', 'neanmoin', 'ouia', 'ouvrir', 'partir', 'permettre', 'pouvoir', 'pre', 'prealabl', 'proceder', 'précisemer', 'qu', 'quell', \"quelqu'\", 'quiconqu', 'relatif', 'rester', 's', 'savoir', 'sembler', 'sentir', 'specifiqu', 'suffire', 't', 'taire', 'tendre', 'toucher', 'tre', 'voir', 'è', '’'] not in stop_words.\n",
            "  warnings.warn(\n"
          ]
        },
        {
          "output_type": "stream",
          "name": "stdout",
          "text": [
            "Best parameters set: [('tfidf', TfidfVectorizer(max_df=0.25,\n",
            "                stop_words={'a', 'abord', 'afin', 'ah', 'ai', 'aie', 'ainsi',\n",
            "                            'ait', 'allaient', 'allons', 'alors', 'anterieur',\n",
            "                            'anterieure', 'anterieures', 'antérieur',\n",
            "                            'antérieure', 'antérieures', 'apres', 'après', 'as',\n",
            "                            'assez', 'attendu', 'au', 'aupres', 'auquel',\n",
            "                            'aura', 'auraient', 'aurait', 'auront', 'aussi', ...},\n",
            "                tokenizer=<function spacy_tokenizer at 0x7f9387027e50>)), ('clf', OneVsRestClassifier(estimator=MultinomialNB(alpha=0.01)))]\n"
          ]
        }
      ],
      "source": [
        "# Using One-vs-the-rest (OvR) multiclass strategy\n",
        "\n",
        "from sklearn.multiclass import OneVsRestClassifier\n",
        "from sklearn.naive_bayes import MultinomialNB\n",
        "\n",
        "pipeline = Pipeline([\n",
        "    ('tfidf', TfidfVectorizer(tokenizer=spacy_tokenizer, stop_words=spacy_stopwords)),\n",
        "    ('clf', OneVsRestClassifier(MultinomialNB(\n",
        "        fit_prior=True, class_prior=None))),\n",
        "])\n",
        "parameters = {\n",
        "    'tfidf__max_df': (0.25, 0.5, 0.75),\n",
        "    'tfidf__ngram_range': [(1, 1), (1, 2), (1, 3)],\n",
        "    'clf__estimator__alpha': (1e-2, 1e-3)\n",
        "}\n",
        "\n",
        "grid_search_tune = GridSearchCV(pipeline, parameters, cv=2, n_jobs=2, verbose=3)\n",
        "grid_search_tune.fit(X_train, y_train)\n",
        "\n",
        "print(\"Best parameters set:\",grid_search_tune.best_estimator_.steps)"
      ]
    },
    {
      "cell_type": "code",
      "execution_count": null,
      "metadata": {
        "id": "rpB29qIIMTe9",
        "colab": {
          "base_uri": "https://localhost:8080/"
        },
        "outputId": "34af6538-a5f3-4e6e-b69c-eb3d9c12e217"
      },
      "outputs": [
        {
          "output_type": "stream",
          "name": "stderr",
          "text": [
            "/usr/local/lib/python3.8/dist-packages/sklearn/feature_extraction/text.py:396: UserWarning: Your stop_words may be inconsistent with your preprocessing. Tokenizing the stop words generated tokens ['-là', 'aller', 'apre', 'attendre', 'aupre', 'avai', 'c', 'cinquant', 'concerner', 'd', 'desormer', 'desquel', 'desquelle', 'dever', 'devoir', 'differer', 'egalemer', 'eter', 'exactemer', 'fai', 'faire', 'j', 'l', 'm', 'mill', 'moindre', 'n', 'neanmoin', 'ouia', 'ouvrir', 'partir', 'permettre', 'pouvoir', 'pre', 'prealabl', 'proceder', 'précisemer', 'qu', 'quell', \"quelqu'\", 'quiconqu', 'relatif', 'rester', 's', 'savoir', 'sembler', 'sentir', 'specifiqu', 'suffire', 't', 'taire', 'tendre', 'toucher', 'tre', 'voir', 'è', '’'] not in stop_words.\n",
            "  warnings.warn(\n"
          ]
        },
        {
          "output_type": "execute_result",
          "data": {
            "text/plain": [
              "{'model': 'Logistic Regression with OvR',\n",
              " 'accuracy': 0.433333,\n",
              " 'precision': 0.389262,\n",
              " 'recall': 0.36478,\n",
              " 'f1_score': 0.376623}"
            ]
          },
          "metadata": {},
          "execution_count": 39
        }
      ],
      "source": [
        "# OvR with Logstic Regression model and best parameters with grid search\n",
        "\n",
        "best_max_df = grid_search_tune.best_params_['tfidf__max_df']\n",
        "best_ngram_range = grid_search_tune.best_params_['tfidf__ngram_range']\n",
        "\n",
        "vector_NB_grid_search = TfidfVectorizer(tokenizer=spacy_tokenizer,\n",
        "                                        stop_words=spacy_stopwords,\n",
        "                                        max_df=best_max_df,\n",
        "                                        ngram_range=best_ngram_range)\n",
        "\n",
        "data_cleaning_OvR_grid_search = evaluate_model_token('Logistic Regression with OvR',\n",
        "                                                     log_reg,\n",
        "                                                     vector_NB_grid_search,\n",
        "                                                     X_train,y_train,X_test,y_test)\n",
        "data_cleaning_OvR_grid_search"
      ]
    },
    {
      "cell_type": "markdown",
      "metadata": {
        "id": "dvSDHpoRZSFr"
      },
      "source": [
        "##### 3.2. Linear Support Vector Classification model\n",
        "\n",
        "We continue to try improving the accuracy results, this time using linear SVC instead of Logistic Regression and without removing stop words.\n",
        "\n",
        "We also decided to train our model on the whole dataset (X and y) instead of the 80% of the training set. This way we can compute better accuracy, as our initial dataset is really small, the more data there is, the better the performance of the model."
      ]
    },
    {
      "cell_type": "code",
      "source": [
        "# Linear SVC method\n",
        "from sklearn.pipeline import Pipeline\n",
        "from sklearn.svm import LinearSVC\n",
        "\n",
        "y_ = y.astype(int)\n",
        "\n",
        "param_grid = {'C': [0.1, 1, 10, 100],\n",
        "              'loss': ['hinge', 'squared_hinge']}\n",
        "\n",
        "lsvc = LinearSVC(loss='squared_hinge', C=10)\n",
        "vectorizer = TfidfVectorizer(ngram_range=(1,1))\n",
        "\n",
        "pipe_ = Pipeline([('vectorizer', vectorizer),\n",
        "                 ('classifier', lsvc)])\n",
        "\n",
        "pipe_.fit(X,y_)\n",
        "predictions = pipe_.predict(X_test)"
      ],
      "metadata": {
        "id": "L0KGTMuIZMyi"
      },
      "execution_count": null,
      "outputs": []
    },
    {
      "cell_type": "code",
      "source": [
        "# Evaluate the Linear SVC model\n",
        "report_SVC = evaluate_model_token('Linear SVC',\n",
        "                                  lsvc,\n",
        "                                  vectorizer,\n",
        "                                  X_train,y_train,X_test,y_test)\n",
        "report_SVC"
      ],
      "metadata": {
        "colab": {
          "base_uri": "https://localhost:8080/"
        },
        "id": "sHc5nwcLfW73",
        "outputId": "43d97b45-4e94-403d-d740-3783ab67cef2"
      },
      "execution_count": null,
      "outputs": [
        {
          "output_type": "execute_result",
          "data": {
            "text/plain": [
              "{'model': 'Linear SVC',\n",
              " 'accuracy': 0.41875,\n",
              " 'precision': 0.389744,\n",
              " 'recall': 0.477987,\n",
              " 'f1_score': 0.429379}"
            ]
          },
          "metadata": {},
          "execution_count": 41
        }
      ]
    },
    {
      "cell_type": "markdown",
      "source": [
        "We now try to submit our model using Linear SVC to Kaggle, this submission gave us our best accuracy result on the Kaggle competition (47.0%)"
      ],
      "metadata": {
        "id": "UI8TGMqa7QKv"
      }
    },
    {
      "cell_type": "code",
      "source": [
        "# Importing the Linear SVC accuracy to Kaggle\n",
        "\n",
        "df_pred_param = pd.read_csv('unlabelled_test_data.csv')\n",
        "df_pred_param['difficulty'] = pipe_.predict(df_pred_param['sentence'])\n",
        "convert_difficulty(df_pred_param, reverse=True)\n",
        "df_pred_param.pop('sentence')\n",
        "df_pred_param.to_csv('UNIL_Apple_param_submission.csv',index=False)"
      ],
      "metadata": {
        "id": "-qwnIeYgbPAX"
      },
      "execution_count": null,
      "outputs": []
    },
    {
      "cell_type": "code",
      "source": [
        "# Create the summary dataframe and sort from better accuracy to worse\n",
        "results_other_methods = pd.DataFrame([data_cleaning_token,\n",
        "                                      data_cleaning_search_CV,\n",
        "                                      data_cleaning_OvR_grid_search,\n",
        "                                      report_SVC])\n",
        "results_other_methods.sort_values(by='accuracy', ascending=False)"
      ],
      "metadata": {
        "colab": {
          "base_uri": "https://localhost:8080/",
          "height": 175
        },
        "id": "3-4MAqmgl4dA",
        "outputId": "ab044f1f-a1ed-491c-80b4-888a1449695b"
      },
      "execution_count": null,
      "outputs": [
        {
          "output_type": "execute_result",
          "data": {
            "text/plain": [
              "                                               model  accuracy  precision  \\\n",
              "0             Logistic Regression with Data Cleaning  0.468750   0.449367   \n",
              "1  Logistic Regression with Data Cleaning & Searc...  0.460417   0.448052   \n",
              "2                       Logistic Regression with OvR  0.433333   0.389262   \n",
              "3                                         Linear SVC  0.418750   0.389744   \n",
              "\n",
              "     recall  f1_score  \n",
              "0  0.446541  0.447950  \n",
              "1  0.433962  0.440895  \n",
              "2  0.364780  0.376623  \n",
              "3  0.477987  0.429379  "
            ],
            "text/html": [
              "\n",
              "  <div id=\"df-4fb99f1c-e62e-4cca-8fc1-f7b3fb709444\">\n",
              "    <div class=\"colab-df-container\">\n",
              "      <div>\n",
              "<style scoped>\n",
              "    .dataframe tbody tr th:only-of-type {\n",
              "        vertical-align: middle;\n",
              "    }\n",
              "\n",
              "    .dataframe tbody tr th {\n",
              "        vertical-align: top;\n",
              "    }\n",
              "\n",
              "    .dataframe thead th {\n",
              "        text-align: right;\n",
              "    }\n",
              "</style>\n",
              "<table border=\"1\" class=\"dataframe\">\n",
              "  <thead>\n",
              "    <tr style=\"text-align: right;\">\n",
              "      <th></th>\n",
              "      <th>model</th>\n",
              "      <th>accuracy</th>\n",
              "      <th>precision</th>\n",
              "      <th>recall</th>\n",
              "      <th>f1_score</th>\n",
              "    </tr>\n",
              "  </thead>\n",
              "  <tbody>\n",
              "    <tr>\n",
              "      <th>0</th>\n",
              "      <td>Logistic Regression with Data Cleaning</td>\n",
              "      <td>0.468750</td>\n",
              "      <td>0.449367</td>\n",
              "      <td>0.446541</td>\n",
              "      <td>0.447950</td>\n",
              "    </tr>\n",
              "    <tr>\n",
              "      <th>1</th>\n",
              "      <td>Logistic Regression with Data Cleaning &amp; Searc...</td>\n",
              "      <td>0.460417</td>\n",
              "      <td>0.448052</td>\n",
              "      <td>0.433962</td>\n",
              "      <td>0.440895</td>\n",
              "    </tr>\n",
              "    <tr>\n",
              "      <th>2</th>\n",
              "      <td>Logistic Regression with OvR</td>\n",
              "      <td>0.433333</td>\n",
              "      <td>0.389262</td>\n",
              "      <td>0.364780</td>\n",
              "      <td>0.376623</td>\n",
              "    </tr>\n",
              "    <tr>\n",
              "      <th>3</th>\n",
              "      <td>Linear SVC</td>\n",
              "      <td>0.418750</td>\n",
              "      <td>0.389744</td>\n",
              "      <td>0.477987</td>\n",
              "      <td>0.429379</td>\n",
              "    </tr>\n",
              "  </tbody>\n",
              "</table>\n",
              "</div>\n",
              "      <button class=\"colab-df-convert\" onclick=\"convertToInteractive('df-4fb99f1c-e62e-4cca-8fc1-f7b3fb709444')\"\n",
              "              title=\"Convert this dataframe to an interactive table.\"\n",
              "              style=\"display:none;\">\n",
              "        \n",
              "  <svg xmlns=\"http://www.w3.org/2000/svg\" height=\"24px\"viewBox=\"0 0 24 24\"\n",
              "       width=\"24px\">\n",
              "    <path d=\"M0 0h24v24H0V0z\" fill=\"none\"/>\n",
              "    <path d=\"M18.56 5.44l.94 2.06.94-2.06 2.06-.94-2.06-.94-.94-2.06-.94 2.06-2.06.94zm-11 1L8.5 8.5l.94-2.06 2.06-.94-2.06-.94L8.5 2.5l-.94 2.06-2.06.94zm10 10l.94 2.06.94-2.06 2.06-.94-2.06-.94-.94-2.06-.94 2.06-2.06.94z\"/><path d=\"M17.41 7.96l-1.37-1.37c-.4-.4-.92-.59-1.43-.59-.52 0-1.04.2-1.43.59L10.3 9.45l-7.72 7.72c-.78.78-.78 2.05 0 2.83L4 21.41c.39.39.9.59 1.41.59.51 0 1.02-.2 1.41-.59l7.78-7.78 2.81-2.81c.8-.78.8-2.07 0-2.86zM5.41 20L4 18.59l7.72-7.72 1.47 1.35L5.41 20z\"/>\n",
              "  </svg>\n",
              "      </button>\n",
              "      \n",
              "  <style>\n",
              "    .colab-df-container {\n",
              "      display:flex;\n",
              "      flex-wrap:wrap;\n",
              "      gap: 12px;\n",
              "    }\n",
              "\n",
              "    .colab-df-convert {\n",
              "      background-color: #E8F0FE;\n",
              "      border: none;\n",
              "      border-radius: 50%;\n",
              "      cursor: pointer;\n",
              "      display: none;\n",
              "      fill: #1967D2;\n",
              "      height: 32px;\n",
              "      padding: 0 0 0 0;\n",
              "      width: 32px;\n",
              "    }\n",
              "\n",
              "    .colab-df-convert:hover {\n",
              "      background-color: #E2EBFA;\n",
              "      box-shadow: 0px 1px 2px rgba(60, 64, 67, 0.3), 0px 1px 3px 1px rgba(60, 64, 67, 0.15);\n",
              "      fill: #174EA6;\n",
              "    }\n",
              "\n",
              "    [theme=dark] .colab-df-convert {\n",
              "      background-color: #3B4455;\n",
              "      fill: #D2E3FC;\n",
              "    }\n",
              "\n",
              "    [theme=dark] .colab-df-convert:hover {\n",
              "      background-color: #434B5C;\n",
              "      box-shadow: 0px 1px 3px 1px rgba(0, 0, 0, 0.15);\n",
              "      filter: drop-shadow(0px 1px 2px rgba(0, 0, 0, 0.3));\n",
              "      fill: #FFFFFF;\n",
              "    }\n",
              "  </style>\n",
              "\n",
              "      <script>\n",
              "        const buttonEl =\n",
              "          document.querySelector('#df-4fb99f1c-e62e-4cca-8fc1-f7b3fb709444 button.colab-df-convert');\n",
              "        buttonEl.style.display =\n",
              "          google.colab.kernel.accessAllowed ? 'block' : 'none';\n",
              "\n",
              "        async function convertToInteractive(key) {\n",
              "          const element = document.querySelector('#df-4fb99f1c-e62e-4cca-8fc1-f7b3fb709444');\n",
              "          const dataTable =\n",
              "            await google.colab.kernel.invokeFunction('convertToInteractive',\n",
              "                                                     [key], {});\n",
              "          if (!dataTable) return;\n",
              "\n",
              "          const docLinkHtml = 'Like what you see? Visit the ' +\n",
              "            '<a target=\"_blank\" href=https://colab.research.google.com/notebooks/data_table.ipynb>data table notebook</a>'\n",
              "            + ' to learn more about interactive tables.';\n",
              "          element.innerHTML = '';\n",
              "          dataTable['output_type'] = 'display_data';\n",
              "          await google.colab.output.renderOutput(dataTable, element);\n",
              "          const docLink = document.createElement('div');\n",
              "          docLink.innerHTML = docLinkHtml;\n",
              "          element.appendChild(docLink);\n",
              "        }\n",
              "      </script>\n",
              "    </div>\n",
              "  </div>\n",
              "  "
            ]
          },
          "metadata": {},
          "execution_count": 43
        }
      ]
    },
    {
      "cell_type": "markdown",
      "metadata": {
        "id": "82FvnJycsBFf"
      },
      "source": [
        "### 5. Results Summary\n",
        "\n",
        "After trying different methods and models with the goal of founding the best accuracy, here is a summary of the results that we found. "
      ]
    },
    {
      "cell_type": "markdown",
      "source": [
        "##### 5.1. Result summary of the model accuracy without data cleaning"
      ],
      "metadata": {
        "id": "ZRi4XnvC7udR"
      }
    },
    {
      "cell_type": "code",
      "source": [
        "# For the comparison plot without data cleaning\n",
        "import matplotlib.pyplot as plt\n",
        "\n",
        "# Set the plot parameters\n",
        "colors = ['#e6effe','#cddffd','#b3cffd','#9abffc','#81affb','#689ffa','#4f8ff9','#357ff9','#1c6ff8','#035ff7']\n",
        "title = 'Accuracy Results without Data Cleaning'\n",
        "data = results_no_data_cleaning\n",
        "\n",
        "# Sort the data frame by the accuracy column\n",
        "data = data.sort_values(by='accuracy', ascending=True)\n",
        "\n",
        "# Extract the model names and accuracy values from the sorted data frame\n",
        "model_names = data['model']\n",
        "accuracies = data['accuracy']*100\n",
        "\n",
        "# Create the figure and axes\n",
        "fig, ax = plt.subplots(figsize=(14, 10))\n",
        "\n",
        "# Set the background color of the figure to grey\n",
        "fig.set_facecolor('#383838')\n",
        "ax.set_facecolor('#383838')\n",
        "    \n",
        "# Set the bars colours\n",
        "colors=colors\n",
        "bars = ax.barh(model_names, accuracies, linewidth=0, color=colors)\n",
        "\n",
        "# Set the labels and title\n",
        "ax.set_ylabel('Model', fontsize=16, fontweight='bold', color='white')\n",
        "ax.set_xlabel('Accuracy (in %)', fontsize=16, fontweight='bold', color='white')\n",
        "ax.set_title(title, fontsize=18, fontweight='bold', color='white')\n",
        "\n",
        "# Remove the border lines of the plot\n",
        "ax.spines['top'].set_visible(False)\n",
        "ax.spines['right'].set_visible(False)\n",
        "ax.spines['bottom'].set_visible(False)\n",
        "ax.spines['left'].set_visible(False)\n",
        "\n",
        "# Set the color of the text for both axis\n",
        "ax.tick_params(axis='both', which='both', colors='white', labelsize=14)\n",
        "\n",
        "# grid of the plot\n",
        "ax.grid(axis='both', color='white', linewidth=0.1)\n",
        "\n",
        "# Set the x-axis limits\n",
        "ax.set_xlim(0, 50)\n",
        "\n",
        "# Show the plot\n",
        "plt.show()"
      ],
      "metadata": {
        "colab": {
          "base_uri": "https://localhost:8080/",
          "height": 634
        },
        "id": "IKfjka3_Nw1V",
        "outputId": "97431851-7eba-40ae-f937-5be731e9f400"
      },
      "execution_count": 182,
      "outputs": [
        {
          "output_type": "display_data",
          "data": {
            "text/plain": [
              "<Figure size 1008x720 with 1 Axes>"
            ],
            "image/png": "[encoded data removed]"
          },
          "metadata": {}
        }
      ]
    },
    {
      "cell_type": "markdown",
      "metadata": {
        "id": "jNk2Wo60FM2d"
      },
      "source": [
        "Conclusion of the models accuracy without data cleaning:"
      ]
    },
    {
      "cell_type": "markdown",
      "source": [
        "From the 4 different regression models that we tried, the best accuracy was found with the logistic model, this could be explained because of:\n",
        "\n",
        "- **The model complexity:** Logistic Regression is a relatively simple model, and it may be easier to train and more resistant to overfitting than some of the more complex models like Random Forests or Decision Trees that we used. As our dataset is relatively small and has few features, Logistic Regression may perform better than more complex models.\n",
        "\n",
        "- **The dataset itself:** it's possible that the features in your dataset are better suited for logistic regression than for the other models. It's worth exploring the relationships between the features and the target variable to see if this might be the case.\n",
        "\n",
        "- **The hyperparameter tuning of the other models:** they might be a way to have a better accuracy from the 3 other models by finding beter parameters. The Grid and Random Search with Cross-Validation might not be the best results possible and we need to find another way to have the best parameters. "
      ],
      "metadata": {
        "id": "HMluliul4aur"
      }
    },
    {
      "cell_type": "markdown",
      "source": [
        "##### 5.2. Result summary of the whole project"
      ],
      "metadata": {
        "id": "fZhv6JdR8O0n"
      }
    },
    {
      "cell_type": "code",
      "source": [
        "# Combine the 2 result dataframes\n",
        "plot_all = pd.concat([results_no_data_cleaning, results_other_methods])"
      ],
      "metadata": {
        "id": "MeOKOy_68dTL"
      },
      "execution_count": 158,
      "outputs": []
    },
    {
      "cell_type": "code",
      "source": [
        "# For the whole comparison plot\n",
        "\n",
        "# Set the plot parameters\n",
        "colors = ['#035ff7']*9+['orange']*2+['#035ff7']+['orange']*2\n",
        "title = 'Accuracy Results Comparison for All Methods'\n",
        "data = plot_all\n",
        "legend_labels = ['Accuracies with\\nData Cleaning\\n& other Methods\\n',\n",
        "                 'Accuracies\\nWithout\\nData Cleaning']\n",
        "\n",
        "# Sort the data frame by the accuracy column\n",
        "data = data.sort_values(by='accuracy', ascending=True)\n",
        "\n",
        "# Extract the model names and accuracy values from the sorted data frame\n",
        "model_names = data['model']\n",
        "accuracies = data['accuracy']*100\n",
        "\n",
        "# Create the figure and axes\n",
        "fig, ax = plt.subplots(figsize=(14, 10))\n",
        "\n",
        "# Set the background color of the figure to grey\n",
        "fig.set_facecolor('#383838')\n",
        "ax.set_facecolor('#383838')\n",
        "    \n",
        "# Set the bars colours\n",
        "colors=colors\n",
        "bars = ax.barh(model_names, accuracies, linewidth=0, color=colors)\n",
        "\n",
        "# Set the labels and title\n",
        "ax.set_ylabel('Model', fontsize=16, fontweight='bold', color='white')\n",
        "ax.set_xlabel('Accuracy (in %)', fontsize=16, fontweight='bold', color='white')\n",
        "ax.set_title(title, fontsize=18, fontweight='bold', color='white')\n",
        "\n",
        "# Set the legend\n",
        "bars = ax.barh(model_names, accuracies, linewidth=0, color=colors)\n",
        "ax.legend(handles=[bars[-5:],bars[:-2]],\n",
        "          labels=legend_labels,\n",
        "          bbox_to_anchor=(1,0.3),\n",
        "          fontsize=14,\n",
        "          title='Legend')\n",
        "\n",
        "# Remove the border lines of the plot\n",
        "ax.spines['top'].set_visible(False)\n",
        "ax.spines['right'].set_visible(False)\n",
        "ax.spines['bottom'].set_visible(False)\n",
        "ax.spines['left'].set_visible(False)\n",
        "\n",
        "# Set the color of the text for both axis\n",
        "ax.tick_params(axis='both', which='both', colors='white', labelsize=14)\n",
        "\n",
        "# grid of the plot\n",
        "ax.grid(axis='both', color='white', linewidth=0.1)\n",
        "\n",
        "# Set the x-axis limits\n",
        "ax.set_xlim(0, 50)\n",
        "\n",
        "# Show the plot\n",
        "plt.show()"
      ],
      "metadata": {
        "colab": {
          "base_uri": "https://localhost:8080/",
          "height": 634
        },
        "id": "Ol0_6J6TXGpv",
        "outputId": "3468197c-e552-437e-d2ad-4857f084f54a"
      },
      "execution_count": 190,
      "outputs": [
        {
          "output_type": "display_data",
          "data": {
            "text/plain": [
              "<Figure size 1008x720 with 1 Axes>"
            ],
            "image/png": "[encoded data removed]"
          },
          "metadata": {}
        }
      ]
    }
  ],
  "metadata": {
    "colab": {
      "provenance": [],
      "collapsed_sections": [
        "U2xsafSKX7Tx",
        "tsxQRU1tVFE8"
      ]
    },
    "kernelspec": {
      "display_name": "Python 3 (ipykernel)",
      "language": "python",
      "name": "python3"
    },
    "language_info": {
      "codemirror_mode": {
        "name": "ipython",
        "version": 3
      },
      "file_extension": ".py",
      "mimetype": "text/x-python",
      "name": "python",
      "nbconvert_exporter": "python",
      "pygments_lexer": "ipython3",
      "version": "3.8.12"
    },
    "toc": {
      "base_numbering": 1,
      "nav_menu": {},
      "number_sections": true,
      "sideBar": true,
      "skip_h1_title": false,
      "title_cell": "Table of Contents",
      "title_sidebar": "Contents",
      "toc_cell": false,
      "toc_position": {},
      "toc_section_display": true,
      "toc_window_display": false
    }
  },
  "nbformat": 4,
  "nbformat_minor": 0
}